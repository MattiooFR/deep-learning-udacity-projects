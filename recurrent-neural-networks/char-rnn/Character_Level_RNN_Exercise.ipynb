{
 "cells": [
  {
   "cell_type": "markdown",
   "metadata": {},
   "source": [
    "# Character-Level LSTM in PyTorch\n",
    "\n",
    "In this notebook, I'll construct a character-level LSTM with PyTorch. The network will train character by character on some text, then generate new text character by character. As an example, I will train on Anna Karenina. **This model will be able to generate new text based on the text from the book!**\n",
    "\n",
    "This network is based off of Andrej Karpathy's [post on RNNs](http://karpathy.github.io/2015/05/21/rnn-effectiveness/) and [implementation in Torch](https://github.com/karpathy/char-rnn). Below is the general architecture of the character-wise RNN.\n",
    "\n",
    "<img src=\"assets/charseq.jpeg\" width=\"500\">"
   ]
  },
  {
   "cell_type": "markdown",
   "metadata": {},
   "source": [
    "First let's load in our required resources for data loading and model creation."
   ]
  },
  {
   "cell_type": "code",
   "execution_count": 1,
   "metadata": {},
   "outputs": [],
   "source": [
    "import numpy as np\n",
    "import torch\n",
    "from torch import nn\n",
    "import torch.nn.functional as F"
   ]
  },
  {
   "cell_type": "markdown",
   "metadata": {},
   "source": [
    "## Load in Data\n",
    "\n",
    "Then, we'll load the Anna Karenina text file and convert it into integers for our network to use. "
   ]
  },
  {
   "cell_type": "code",
   "execution_count": 2,
   "metadata": {},
   "outputs": [],
   "source": [
    "# open text file and read in data as `text`\n",
    "with open('data/anna.txt', 'r') as f:\n",
    "    text = f.read()"
   ]
  },
  {
   "cell_type": "markdown",
   "metadata": {},
   "source": [
    "Let's check out the first 100 characters, make sure everything is peachy. According to the [American Book Review](http://americanbookreview.org/100bestlines.asp), this is the 6th best first line of a book ever."
   ]
  },
  {
   "cell_type": "code",
   "execution_count": 3,
   "metadata": {},
   "outputs": [
    {
     "data": {
      "text/plain": [
       "'Chapter 1\\n\\n\\nHappy families are all alike; every unhappy family is unhappy in its own\\nway.\\n\\nEverythin'"
      ]
     },
     "execution_count": 3,
     "metadata": {},
     "output_type": "execute_result"
    }
   ],
   "source": [
    "text[:100]"
   ]
  },
  {
   "cell_type": "markdown",
   "metadata": {},
   "source": [
    "### Tokenization\n",
    "\n",
    "In the cells, below, I'm creating a couple **dictionaries** to convert the characters to and from integers. Encoding the characters as integers makes it easier to use as input in the network."
   ]
  },
  {
   "cell_type": "code",
   "execution_count": 4,
   "metadata": {},
   "outputs": [],
   "source": [
    "# encode the text and map each character to an integer and vice versa\n",
    "\n",
    "# we create two dictionaries:\n",
    "# 1. int2char, which maps integers to characters\n",
    "# 2. char2int, which maps characters to unique integers\n",
    "chars = tuple(set(text)) # also called a vocabulary, a set of all unique characters\n",
    "int2char = dict(enumerate(chars)) # create a dictionnary that maps the actual characters to unique integer\n",
    "char2int = {ch: ii for ii, ch in int2char.items()}\n",
    "\n",
    "# encode the text\n",
    "encoded = np.array([char2int[ch] for ch in text])"
   ]
  },
  {
   "cell_type": "markdown",
   "metadata": {},
   "source": [
    "And we can see those same characters from above, encoded as integers."
   ]
  },
  {
   "cell_type": "code",
   "execution_count": 5,
   "metadata": {},
   "outputs": [
    {
     "data": {
      "text/plain": [
       "array([26, 14, 32, 53,  7, 64, 66, 46, 59, 16, 16, 16,  6, 32, 53, 53, 23,\n",
       "       46, 78, 32,  1, 68, 15, 68, 64, 61, 46, 32, 66, 64, 46, 32, 15, 15,\n",
       "       46, 32, 15, 68, 63, 64, 54, 46, 64, 76, 64, 66, 23, 46,  0, 49, 14,\n",
       "       32, 53, 53, 23, 46, 78, 32,  1, 68, 15, 23, 46, 68, 61, 46,  0, 49,\n",
       "       14, 32, 53, 53, 23, 46, 68, 49, 46, 68,  7, 61, 46, 73, 60, 49, 16,\n",
       "       60, 32, 23, 10, 16, 16, 36, 76, 64, 66, 23,  7, 14, 68, 49])"
      ]
     },
     "execution_count": 5,
     "metadata": {},
     "output_type": "execute_result"
    }
   ],
   "source": [
    "encoded[:100]"
   ]
  },
  {
   "cell_type": "markdown",
   "metadata": {},
   "source": [
    "## Pre-processing the data\n",
    "\n",
    "As you can see in our char-RNN image above, our LSTM expects an input that is **one-hot encoded** meaning that each character is converted into an integer (via our created dictionary) and *then* converted into a column vector where only it's corresponding integer index will have the value of 1 and the rest of the vector will be filled with 0's. Since we're one-hot encoding the data, let's make a function to do that!\n"
   ]
  },
  {
   "cell_type": "code",
   "execution_count": 6,
   "metadata": {},
   "outputs": [],
   "source": [
    "def one_hot_encode(arr, n_labels):\n",
    "    \n",
    "    # Initialize the the encoded array\n",
    "    one_hot = np.zeros((np.multiply(*arr.shape), n_labels), dtype=np.float32)\n",
    "    \n",
    "    # Fill the appropriate elements with ones\n",
    "    one_hot[np.arange(one_hot.shape[0]), arr.flatten()] = 1.\n",
    "    \n",
    "    # Finally reshape it to get back to the original array\n",
    "    one_hot = one_hot.reshape((*arr.shape, n_labels))\n",
    "    \n",
    "    return one_hot"
   ]
  },
  {
   "cell_type": "code",
   "execution_count": 7,
   "metadata": {},
   "outputs": [
    {
     "name": "stdout",
     "output_type": "stream",
     "text": [
      "[[[ 0.  0.  0.  1.  0.  0.  0.  0.]\n",
      "  [ 0.  0.  0.  0.  0.  1.  0.  0.]\n",
      "  [ 0.  1.  0.  0.  0.  0.  0.  0.]]]\n"
     ]
    }
   ],
   "source": [
    "# check that the function works as expected\n",
    "test_seq = np.array([[3, 5, 1]])\n",
    "one_hot = one_hot_encode(test_seq, 8)\n",
    "\n",
    "print(one_hot)"
   ]
  },
  {
   "cell_type": "markdown",
   "metadata": {},
   "source": [
    "## Making training mini-batches\n",
    "\n",
    "\n",
    "To train on this data, we also want to create mini-batches for training. Remember that we want our batches to be multiple sequences of some desired number of sequence steps. Considering a simple example, our batches would look like this:\n",
    "\n",
    "<img src=\"assets/sequence_batching@1x.png\" width=500px>\n",
    "\n",
    "\n",
    "<br>\n",
    "\n",
    "In this example, we'll take the encoded characters (passed in as the `arr` parameter) and split them into multiple sequences, given by `batch_size`. Each of our sequences will be `seq_length` long.\n",
    "\n",
    "### Creating Batches\n",
    "\n",
    "**1. The first thing we need to do is discard some of the text so we only have completely full mini-batches. **\n",
    "\n",
    "Each batch contains $N \\times M$ characters, where $N$ is the batch size (the number of sequences in a batch) and $M$ is the seq_length or number of time steps in a sequence. Then, to get the total number of batches, $K$, that we can make from the array `arr`, you divide the length of `arr` by the number of characters per batch. Once you know the number of batches, you can get the total number of characters to keep from `arr`, $N * M * K$.\n",
    "\n",
    "**2. After that, we need to split `arr` into $N$ batches. ** \n",
    "\n",
    "You can do this using `arr.reshape(size)` where `size` is a tuple containing the dimensions sizes of the reshaped array. We know we want $N$ sequences in a batch, so let's make that the size of the first dimension. For the second dimension, you can use `-1` as a placeholder in the size, it'll fill up the array with the appropriate data for you. After this, you should have an array that is $N \\times (M * K)$.\n",
    "\n",
    "**3. Now that we have this array, we can iterate through it to get our mini-batches. **\n",
    "\n",
    "The idea is each batch is a $N \\times M$ window on the $N \\times (M * K)$ array. For each subsequent batch, the window moves over by `seq_length`. We also want to create both the input and target arrays. Remember that the targets are just the inputs shifted over by one character. The way I like to do this window is use `range` to take steps of size `n_steps` from $0$ to `arr.shape[1]`, the total number of tokens in each sequence. That way, the integers you get from `range` always point to the start of a batch, and each window is `seq_length` wide.\n",
    "\n",
    "> **TODO:** Write the code for creating batches in the function below. The exercises in this notebook _will not be easy_. I've provided a notebook with solutions alongside this notebook. If you get stuck, checkout the solutions. The most important thing is that you don't copy and paste the code into here, **type out the solution code yourself.**"
   ]
  },
  {
   "cell_type": "code",
   "execution_count": 8,
   "metadata": {},
   "outputs": [],
   "source": [
    "def get_batches(arr, batch_size, seq_length):\n",
    "    '''Create a generator that returns batches of size\n",
    "       batch_size x seq_length from arr.\n",
    "       \n",
    "       Arguments\n",
    "       ---------\n",
    "       arr: Array you want to make batches from\n",
    "       batch_size: Batch size, the number of sequences per batch\n",
    "       seq_length: Number of encoded chars in a sequence\n",
    "    '''\n",
    "    \n",
    "    ## TODO: Get the number of batches we can make\n",
    "    n_batches = len(arr)//(batch_size * seq_length)\n",
    "    \n",
    "    ## TODO: Keep only enough characters to make full batches\n",
    "    arr = arr[:n_batches * batch_size * seq_length]\n",
    "    \n",
    "    ## TODO: Reshape into batch_size rows\n",
    "    arr = arr.reshape((batch_size,-1))\n",
    "    \n",
    "    ## TODO: Iterate over the batches using a window of size seq_length\n",
    "    for n in range(0, arr.shape[1], seq_length):\n",
    "        # The features\n",
    "        x = arr[:, n:n+seq_length]\n",
    "        # The targets, shifted by one\n",
    "        y = np.zeros_like(x)\n",
    "        try:\n",
    "            y[:, :-1], y[:, -1] = x[:, 1:], arr[:, n+seq_length]\n",
    "        except IndexError:\n",
    "            # Here we handle the last line of the sequence and we take the first row of the array\n",
    "            # and place it at the last row of our target array\n",
    "            # Many people does it this way and the network perfectly trains doing like this\n",
    "            # We need x and y to be the same size\n",
    "            y[:, :-1], y[:, -1] = x[:, 1:], arr[:, 0]\n",
    "        yield x, y"
   ]
  },
  {
   "cell_type": "markdown",
   "metadata": {},
   "source": [
    "### Test Your Implementation\n",
    "\n",
    "Now I'll make some data sets and we can check out what's going on as we batch data. Here, as an example, I'm going to use a batch size of 8 and 50 sequence steps."
   ]
  },
  {
   "cell_type": "code",
   "execution_count": 9,
   "metadata": {},
   "outputs": [],
   "source": [
    "batches = get_batches(encoded, 8, 50)\n",
    "x, y = next(batches)"
   ]
  },
  {
   "cell_type": "code",
   "execution_count": 10,
   "metadata": {},
   "outputs": [
    {
     "name": "stdout",
     "output_type": "stream",
     "text": [
      "x\n",
      " [[26 14 32 53  7 64 66 46 59 16]\n",
      " [61 73 49 46  7 14 32  7 46 32]\n",
      " [64 49  5 46 73 66 46 32 46 78]\n",
      " [61 46  7 14 64 46 50 14 68 64]\n",
      " [46 61 32 60 46 14 64 66 46  7]\n",
      " [50  0 61 61 68 73 49 46 32 49]\n",
      " [46 28 49 49 32 46 14 32  5 46]\n",
      " [81 39 15 73 49 61 63 23 10 46]]\n",
      "\n",
      "y\n",
      " [[14 32 53  7 64 66 46 59 16 16]\n",
      " [73 49 46  7 14 32  7 46 32  7]\n",
      " [49  5 46 73 66 46 32 46 78 73]\n",
      " [46  7 14 64 46 50 14 68 64 78]\n",
      " [61 32 60 46 14 64 66 46  7 64]\n",
      " [ 0 61 61 68 73 49 46 32 49  5]\n",
      " [28 49 49 32 46 14 32  5 46 61]\n",
      " [39 15 73 49 61 63 23 10 46 18]]\n"
     ]
    }
   ],
   "source": [
    "# printing out the first 10 items in a sequence\n",
    "print('x\\n', x[:10, :10])\n",
    "print('\\ny\\n', y[:10, :10])"
   ]
  },
  {
   "cell_type": "markdown",
   "metadata": {},
   "source": [
    "If you implemented `get_batches` correctly, the above output should look something like \n",
    "```\n",
    "x\n",
    " [[25  8 60 11 45 27 28 73  1  2]\n",
    " [17  7 20 73 45  8 60 45 73 60]\n",
    " [27 20 80 73  7 28 73 60 73 65]\n",
    " [17 73 45  8 27 73 66  8 46 27]\n",
    " [73 17 60 12 73  8 27 28 73 45]\n",
    " [66 64 17 17 46  7 20 73 60 20]\n",
    " [73 76 20 20 60 73  8 60 80 73]\n",
    " [47 35 43  7 20 17 24 50 37 73]]\n",
    "\n",
    "y\n",
    " [[ 8 60 11 45 27 28 73  1  2  2]\n",
    " [ 7 20 73 45  8 60 45 73 60 45]\n",
    " [20 80 73  7 28 73 60 73 65  7]\n",
    " [73 45  8 27 73 66  8 46 27 65]\n",
    " [17 60 12 73  8 27 28 73 45 27]\n",
    " [64 17 17 46  7 20 73 60 20 80]\n",
    " [76 20 20 60 73  8 60 80 73 17]\n",
    " [35 43  7 20 17 24 50 37 73 36]]\n",
    " ```\n",
    " although the exact numbers may be different. Check to make sure the data is shifted over one step for `y`."
   ]
  },
  {
   "cell_type": "markdown",
   "metadata": {},
   "source": [
    "---\n",
    "## Defining the network with PyTorch\n",
    "\n",
    "Below is where you'll define the network.\n",
    "\n",
    "<img src=\"assets/charRNN.png\" width=500px>\n",
    "\n",
    "Next, you'll use PyTorch to define the architecture of the network. We start by defining the layers and operations we want. Then, define a method for the forward pass. You've also been given a method for predicting characters."
   ]
  },
  {
   "cell_type": "markdown",
   "metadata": {},
   "source": [
    "### Model Structure\n",
    "\n",
    "In `__init__` the suggested structure is as follows:\n",
    "* Create and store the necessary dictionaries (this has been done for you)\n",
    "* Define an LSTM layer that takes as params: an input size (the number of characters), a hidden layer size `n_hidden`, a number of layers `n_layers`, a dropout probability `drop_prob`, and a batch_first boolean (True, since we are batching)\n",
    "* Define a dropout layer with `dropout_prob`\n",
    "* Define a fully-connected layer with params: input size `n_hidden` and output size (the number of characters)\n",
    "* Finally, initialize the weights (again, this has been given)\n",
    "\n",
    "Note that some parameters have been named and given in the `__init__` function, and we use them and store them by doing something like `self.drop_prob = drop_prob`."
   ]
  },
  {
   "cell_type": "markdown",
   "metadata": {},
   "source": [
    "---\n",
    "### LSTM Inputs/Outputs\n",
    "\n",
    "You can create a basic [LSTM layer](https://pytorch.org/docs/stable/nn.html#lstm) as follows\n",
    "\n",
    "```python\n",
    "self.lstm = nn.LSTM(input_size, n_hidden, n_layers, \n",
    "                            dropout=drop_prob, batch_first=True)\n",
    "```\n",
    "\n",
    "where `input_size` is the number of characters this cell expects to see as sequential input, and `n_hidden` is the number of units in the hidden layers in the cell. And we can add dropout by adding a dropout parameter with a specified probability; this will automatically add dropout to the inputs or outputs. Finally, in the `forward` function, we can stack up the LSTM cells into layers using `.view`. With this, you pass in a list of cells and it will send the output of one cell into the next cell.\n",
    "\n",
    "We also need to create an initial hidden state of all zeros. This is done like so\n",
    "\n",
    "```python\n",
    "self.init_hidden()\n",
    "```"
   ]
  },
  {
   "cell_type": "code",
   "execution_count": 11,
   "metadata": {},
   "outputs": [
    {
     "name": "stdout",
     "output_type": "stream",
     "text": [
      "Training on GPU!\n"
     ]
    }
   ],
   "source": [
    "# check if GPU is available\n",
    "train_on_gpu = torch.cuda.is_available()\n",
    "if(train_on_gpu):\n",
    "    print('Training on GPU!')\n",
    "else: \n",
    "    print('No GPU available, training on CPU; consider making n_epochs very small.')"
   ]
  },
  {
   "cell_type": "code",
   "execution_count": 16,
   "metadata": {},
   "outputs": [],
   "source": [
    "class CharRNN(nn.Module):\n",
    "    \n",
    "    def __init__(self, tokens, n_hidden=256, n_layers=2,\n",
    "                               drop_prob=0.5, lr=0.001):\n",
    "        super().__init__()\n",
    "        self.drop_prob = drop_prob\n",
    "        self.n_layers = n_layers\n",
    "        self.n_hidden = n_hidden\n",
    "        self.lr = lr\n",
    "        \n",
    "        # creating character dictionaries\n",
    "        self.chars = tokens\n",
    "        self.int2char = dict(enumerate(self.chars))\n",
    "        self.char2int = {ch: ii for ii, ch in self.int2char.items()}\n",
    "        \n",
    "        ## TODO: define the layers of the model\n",
    "        self.lstm = nn.LSTM(len(self.int2char), n_hidden, n_layers, dropout=drop_prob, batch_first=True)\n",
    "        self.dropout = nn.Dropout(p=drop_prob)\n",
    "        self.fc = nn.Linear(n_hidden, len(self.int2char))\n",
    "    \n",
    "    def forward(self, x, hidden):\n",
    "        ''' Forward pass through the network. \n",
    "            These inputs are x, and the hidden/cell state `hidden`. '''\n",
    "                \n",
    "        ## TODO: Get the outputs and the new hidden state from the lstm\n",
    "        r_output, hidden = self.lstm(x, hidden)\n",
    "        \n",
    "        out = self.dropout(r_output)\n",
    "        \n",
    "        out = out.contiguous().view(-1, self.n_hidden)\n",
    "        \n",
    "        out = self.fc(out)\n",
    "        # return the final output and the hidden state\n",
    "        return out, hidden\n",
    "    \n",
    "    \n",
    "    def init_hidden(self, batch_size):\n",
    "        ''' Initializes hidden state '''\n",
    "        # Create two new tensors with sizes n_layers x batch_size x n_hidden,\n",
    "        # initialized to zero, for hidden state and cell state of LSTM\n",
    "        weight = next(self.parameters()).data\n",
    "        \n",
    "        if (train_on_gpu):\n",
    "            hidden = (weight.new(self.n_layers, batch_size, self.n_hidden).zero_().cuda(),\n",
    "                  weight.new(self.n_layers, batch_size, self.n_hidden).zero_().cuda())\n",
    "        else:\n",
    "            hidden = (weight.new(self.n_layers, batch_size, self.n_hidden).zero_(),\n",
    "                      weight.new(self.n_layers, batch_size, self.n_hidden).zero_())\n",
    "        \n",
    "        return hidden\n",
    "        "
   ]
  },
  {
   "cell_type": "markdown",
   "metadata": {},
   "source": [
    "## Time to train\n",
    "\n",
    "The train function gives us the ability to set the number of epochs, the learning rate, and other parameters.\n",
    "\n",
    "Below we're using an Adam optimizer and cross entropy loss since we are looking at character class scores as output. We calculate the loss and perform backpropagation, as usual!\n",
    "\n",
    "A couple of details about training: \n",
    ">* Within the batch loop, we detach the hidden state from its history; this time setting it equal to a new *tuple* variable because an LSTM has a hidden state that is a tuple of the hidden and cell states.\n",
    "* We use [`clip_grad_norm_`](https://pytorch.org/docs/stable/_modules/torch/nn/utils/clip_grad.html) to help prevent exploding gradients."
   ]
  },
  {
   "cell_type": "code",
   "execution_count": 17,
   "metadata": {},
   "outputs": [],
   "source": [
    "def train(net, data, epochs=10, batch_size=10, seq_length=50, lr=0.001, clip=5, val_frac=0.1, print_every=10):\n",
    "    ''' Training a network \n",
    "    \n",
    "        Arguments\n",
    "        ---------\n",
    "        \n",
    "        net: CharRNN network\n",
    "        data: text data to train the network\n",
    "        epochs: Number of epochs to train\n",
    "        batch_size: Number of mini-sequences per mini-batch, aka batch size\n",
    "        seq_length: Number of character steps per mini-batch\n",
    "        lr: learning rate\n",
    "        clip: gradient clipping\n",
    "        val_frac: Fraction of data to hold out for validation\n",
    "        print_every: Number of steps for printing training and validation loss\n",
    "    \n",
    "    '''\n",
    "    net.train()\n",
    "    \n",
    "    opt = torch.optim.Adam(net.parameters(), lr=lr)\n",
    "    criterion = nn.CrossEntropyLoss()\n",
    "    \n",
    "    # create training and validation data\n",
    "    val_idx = int(len(data)*(1-val_frac))\n",
    "    data, val_data = data[:val_idx], data[val_idx:]\n",
    "    \n",
    "    if(train_on_gpu):\n",
    "        net.cuda()\n",
    "    \n",
    "    counter = 0\n",
    "    n_chars = len(net.chars)\n",
    "    for e in range(epochs):\n",
    "        # initialize hidden state\n",
    "        h = net.init_hidden(batch_size)\n",
    "        \n",
    "        for x, y in get_batches(data, batch_size, seq_length):\n",
    "            counter += 1\n",
    "            \n",
    "            # One-hot encode our data and make them Torch tensors\n",
    "            x = one_hot_encode(x, n_chars)\n",
    "            inputs, targets = torch.from_numpy(x), torch.from_numpy(y)\n",
    "            \n",
    "            if(train_on_gpu):\n",
    "                inputs, targets = inputs.cuda(), targets.cuda()\n",
    "\n",
    "            # Creating new variables for the hidden state, otherwise\n",
    "            # we'd backprop through the entire training history\n",
    "            h = tuple([each.data for each in h])\n",
    "\n",
    "            # zero accumulated gradients\n",
    "            net.zero_grad()\n",
    "            \n",
    "            # get the output from the model\n",
    "            output, h = net(inputs, h)\n",
    "            \n",
    "            # calculate the loss and perform backprop\n",
    "            loss = criterion(output, targets.view(batch_size*seq_length))\n",
    "            loss.backward()\n",
    "            # `clip_grad_norm` helps prevent the exploding gradient problem in RNNs / LSTMs.\n",
    "            nn.utils.clip_grad_norm_(net.parameters(), clip)\n",
    "            opt.step()\n",
    "            \n",
    "            # loss stats\n",
    "            if counter % print_every == 0:\n",
    "                # Get validation loss\n",
    "                val_h = net.init_hidden(batch_size)\n",
    "                val_losses = []\n",
    "                net.eval()\n",
    "                for x, y in get_batches(val_data, batch_size, seq_length):\n",
    "                    # One-hot encode our data and make them Torch tensors\n",
    "                    x = one_hot_encode(x, n_chars)\n",
    "                    x, y = torch.from_numpy(x), torch.from_numpy(y)\n",
    "                    \n",
    "                    # Creating new variables for the hidden state, otherwise\n",
    "                    # we'd backprop through the entire training history\n",
    "                    val_h = tuple([each.data for each in val_h])\n",
    "                    \n",
    "                    inputs, targets = x, y\n",
    "                    if(train_on_gpu):\n",
    "                        inputs, targets = inputs.cuda(), targets.cuda()\n",
    "\n",
    "                    output, val_h = net(inputs, val_h)\n",
    "                    val_loss = criterion(output, targets.view(batch_size*seq_length))\n",
    "                \n",
    "                    val_losses.append(val_loss.item())\n",
    "                \n",
    "                net.train() # reset to train mode after iterationg through validation data\n",
    "                \n",
    "                print(\"Epoch: {}/{}...\".format(e+1, epochs),\n",
    "                      \"Step: {}...\".format(counter),\n",
    "                      \"Loss: {:.4f}...\".format(loss.item()),\n",
    "                      \"Val Loss: {:.4f}\".format(np.mean(val_losses)))"
   ]
  },
  {
   "cell_type": "markdown",
   "metadata": {},
   "source": [
    "## Instantiating the model\n",
    "\n",
    "Now we can actually train the network. First we'll create the network itself, with some given hyperparameters. Then, define the mini-batches sizes, and start training!"
   ]
  },
  {
   "cell_type": "code",
   "execution_count": 35,
   "metadata": {},
   "outputs": [
    {
     "name": "stdout",
     "output_type": "stream",
     "text": [
      "CharRNN(\n",
      "  (lstm): LSTM(83, 512, num_layers=2, batch_first=True, dropout=0.5)\n",
      "  (dropout): Dropout(p=0.5)\n",
      "  (fc): Linear(in_features=512, out_features=83, bias=True)\n",
      ")\n"
     ]
    }
   ],
   "source": [
    "## TODO: set you model hyperparameters\n",
    "# define and print the net\n",
    "n_hidden=512\n",
    "n_layers=2\n",
    "\n",
    "net = CharRNN(chars, n_hidden, n_layers)\n",
    "print(net)"
   ]
  },
  {
   "cell_type": "markdown",
   "metadata": {},
   "source": [
    "### Set your training hyperparameters!"
   ]
  },
  {
   "cell_type": "code",
   "execution_count": 36,
   "metadata": {
    "scrolled": true
   },
   "outputs": [
    {
     "name": "stdout",
     "output_type": "stream",
     "text": [
      "Epoch: 1/20... Step: 10... Loss: 3.2283... Val Loss: 3.1787\n",
      "Epoch: 1/20... Step: 20... Loss: 3.1690... Val Loss: 3.1355\n",
      "Epoch: 1/20... Step: 30... Loss: 3.1410... Val Loss: 3.1223\n",
      "Epoch: 1/20... Step: 40... Loss: 3.1384... Val Loss: 3.1196\n",
      "Epoch: 1/20... Step: 50... Loss: 3.1484... Val Loss: 3.1168\n",
      "Epoch: 1/20... Step: 60... Loss: 3.1155... Val Loss: 3.1145\n",
      "Epoch: 1/20... Step: 70... Loss: 3.1195... Val Loss: 3.1100\n",
      "Epoch: 1/20... Step: 80... Loss: 3.0972... Val Loss: 3.1010\n",
      "Epoch: 1/20... Step: 90... Loss: 3.0869... Val Loss: 3.0785\n",
      "Epoch: 2/20... Step: 100... Loss: 3.0280... Val Loss: 3.0319\n",
      "Epoch: 2/20... Step: 110... Loss: 2.9626... Val Loss: 2.9623\n",
      "Epoch: 2/20... Step: 120... Loss: 2.8463... Val Loss: 2.8382\n",
      "Epoch: 2/20... Step: 130... Loss: 2.8002... Val Loss: 2.7693\n",
      "Epoch: 2/20... Step: 140... Loss: 2.6753... Val Loss: 2.6433\n",
      "Epoch: 2/20... Step: 150... Loss: 2.5894... Val Loss: 2.5562\n",
      "Epoch: 2/20... Step: 160... Loss: 2.5150... Val Loss: 2.4963\n",
      "Epoch: 2/20... Step: 170... Loss: 2.4714... Val Loss: 2.4537\n",
      "Epoch: 2/20... Step: 180... Loss: 2.4470... Val Loss: 2.4086\n",
      "Epoch: 3/20... Step: 190... Loss: 2.4112... Val Loss: 2.3815\n",
      "Epoch: 3/20... Step: 200... Loss: 2.3721... Val Loss: 2.3430\n",
      "Epoch: 3/20... Step: 210... Loss: 2.3476... Val Loss: 2.3203\n",
      "Epoch: 3/20... Step: 220... Loss: 2.3498... Val Loss: 2.3121\n",
      "Epoch: 3/20... Step: 230... Loss: 2.2804... Val Loss: 2.2799\n",
      "Epoch: 3/20... Step: 240... Loss: 2.3027... Val Loss: 2.2462\n",
      "Epoch: 3/20... Step: 250... Loss: 2.2680... Val Loss: 2.2142\n",
      "Epoch: 3/20... Step: 260... Loss: 2.2010... Val Loss: 2.1905\n",
      "Epoch: 3/20... Step: 270... Loss: 2.1967... Val Loss: 2.1685\n",
      "Epoch: 4/20... Step: 280... Loss: 2.1650... Val Loss: 2.1432\n",
      "Epoch: 4/20... Step: 290... Loss: 2.1387... Val Loss: 2.1230\n",
      "Epoch: 4/20... Step: 300... Loss: 2.1315... Val Loss: 2.1023\n",
      "Epoch: 4/20... Step: 310... Loss: 2.1035... Val Loss: 2.0833\n",
      "Epoch: 4/20... Step: 320... Loss: 2.0831... Val Loss: 2.0623\n",
      "Epoch: 4/20... Step: 330... Loss: 2.0644... Val Loss: 2.0414\n",
      "Epoch: 4/20... Step: 340... Loss: 2.0651... Val Loss: 2.0267\n",
      "Epoch: 4/20... Step: 350... Loss: 2.0124... Val Loss: 2.0117\n",
      "Epoch: 4/20... Step: 360... Loss: 2.0054... Val Loss: 1.9932\n",
      "Epoch: 4/20... Step: 370... Loss: 1.9883... Val Loss: 1.9782\n",
      "Epoch: 5/20... Step: 380... Loss: 1.9706... Val Loss: 1.9575\n",
      "Epoch: 5/20... Step: 390... Loss: 1.9594... Val Loss: 1.9460\n",
      "Epoch: 5/20... Step: 400... Loss: 1.9616... Val Loss: 1.9308\n",
      "Epoch: 5/20... Step: 410... Loss: 1.9325... Val Loss: 1.9156\n",
      "Epoch: 5/20... Step: 420... Loss: 1.9319... Val Loss: 1.9017\n",
      "Epoch: 5/20... Step: 430... Loss: 1.8885... Val Loss: 1.8898\n",
      "Epoch: 5/20... Step: 440... Loss: 1.9037... Val Loss: 1.8787\n",
      "Epoch: 5/20... Step: 450... Loss: 1.8977... Val Loss: 1.8659\n",
      "Epoch: 5/20... Step: 460... Loss: 1.9006... Val Loss: 1.8502\n",
      "Epoch: 6/20... Step: 470... Loss: 1.8398... Val Loss: 1.8373\n",
      "Epoch: 6/20... Step: 480... Loss: 1.8519... Val Loss: 1.8288\n",
      "Epoch: 6/20... Step: 490... Loss: 1.8797... Val Loss: 1.8162\n",
      "Epoch: 6/20... Step: 500... Loss: 1.8299... Val Loss: 1.8058\n",
      "Epoch: 6/20... Step: 510... Loss: 1.8253... Val Loss: 1.7964\n",
      "Epoch: 6/20... Step: 520... Loss: 1.8008... Val Loss: 1.7858\n",
      "Epoch: 6/20... Step: 530... Loss: 1.7988... Val Loss: 1.7773\n",
      "Epoch: 6/20... Step: 540... Loss: 1.7852... Val Loss: 1.7642\n",
      "Epoch: 6/20... Step: 550... Loss: 1.7979... Val Loss: 1.7560\n",
      "Epoch: 7/20... Step: 560... Loss: 1.7728... Val Loss: 1.7461\n",
      "Epoch: 7/20... Step: 570... Loss: 1.7594... Val Loss: 1.7399\n",
      "Epoch: 7/20... Step: 580... Loss: 1.7216... Val Loss: 1.7351\n",
      "Epoch: 7/20... Step: 590... Loss: 1.7762... Val Loss: 1.7218\n",
      "Epoch: 7/20... Step: 600... Loss: 1.7472... Val Loss: 1.7166\n",
      "Epoch: 7/20... Step: 610... Loss: 1.7271... Val Loss: 1.7077\n",
      "Epoch: 7/20... Step: 620... Loss: 1.7365... Val Loss: 1.6981\n",
      "Epoch: 7/20... Step: 630... Loss: 1.7069... Val Loss: 1.6895\n",
      "Epoch: 7/20... Step: 640... Loss: 1.7195... Val Loss: 1.6811\n",
      "Epoch: 7/20... Step: 650... Loss: 1.7085... Val Loss: 1.6777\n",
      "Epoch: 8/20... Step: 660... Loss: 1.6830... Val Loss: 1.6697\n",
      "Epoch: 8/20... Step: 670... Loss: 1.6694... Val Loss: 1.6620\n",
      "Epoch: 8/20... Step: 680... Loss: 1.6823... Val Loss: 1.6583\n",
      "Epoch: 8/20... Step: 690... Loss: 1.6631... Val Loss: 1.6526\n",
      "Epoch: 8/20... Step: 700... Loss: 1.6477... Val Loss: 1.6442\n",
      "Epoch: 8/20... Step: 710... Loss: 1.6531... Val Loss: 1.6431\n",
      "Epoch: 8/20... Step: 720... Loss: 1.6567... Val Loss: 1.6316\n",
      "Epoch: 8/20... Step: 730... Loss: 1.6518... Val Loss: 1.6285\n",
      "Epoch: 8/20... Step: 740... Loss: 1.6421... Val Loss: 1.6185\n",
      "Epoch: 9/20... Step: 750... Loss: 1.6424... Val Loss: 1.6140\n",
      "Epoch: 9/20... Step: 760... Loss: 1.6302... Val Loss: 1.6105\n",
      "Epoch: 9/20... Step: 770... Loss: 1.6304... Val Loss: 1.6049\n",
      "Epoch: 9/20... Step: 780... Loss: 1.5910... Val Loss: 1.5994\n",
      "Epoch: 9/20... Step: 790... Loss: 1.6090... Val Loss: 1.5970\n",
      "Epoch: 9/20... Step: 800... Loss: 1.6189... Val Loss: 1.5890\n",
      "Epoch: 9/20... Step: 810... Loss: 1.6004... Val Loss: 1.5845\n",
      "Epoch: 9/20... Step: 820... Loss: 1.5668... Val Loss: 1.5782\n",
      "Epoch: 9/20... Step: 830... Loss: 1.6077... Val Loss: 1.5721\n",
      "Epoch: 10/20... Step: 840... Loss: 1.5847... Val Loss: 1.5772\n",
      "Epoch: 10/20... Step: 850... Loss: 1.6000... Val Loss: 1.5674\n",
      "Epoch: 10/20... Step: 860... Loss: 1.6034... Val Loss: 1.5613\n",
      "Epoch: 10/20... Step: 870... Loss: 1.5599... Val Loss: 1.5564\n",
      "Epoch: 10/20... Step: 880... Loss: 1.5689... Val Loss: 1.5553\n",
      "Epoch: 10/20... Step: 890... Loss: 1.5733... Val Loss: 1.5494\n",
      "Epoch: 10/20... Step: 900... Loss: 1.5800... Val Loss: 1.5451\n",
      "Epoch: 10/20... Step: 910... Loss: 1.5307... Val Loss: 1.5385\n",
      "Epoch: 10/20... Step: 920... Loss: 1.5591... Val Loss: 1.5378\n",
      "Epoch: 10/20... Step: 930... Loss: 1.5748... Val Loss: 1.5336\n",
      "Epoch: 11/20... Step: 940... Loss: 1.5675... Val Loss: 1.5294\n",
      "Epoch: 11/20... Step: 950... Loss: 1.5377... Val Loss: 1.5269\n",
      "Epoch: 11/20... Step: 960... Loss: 1.5362... Val Loss: 1.5241\n",
      "Epoch: 11/20... Step: 970... Loss: 1.5163... Val Loss: 1.5192\n",
      "Epoch: 11/20... Step: 980... Loss: 1.5418... Val Loss: 1.5166\n",
      "Epoch: 11/20... Step: 990... Loss: 1.5411... Val Loss: 1.5132\n",
      "Epoch: 11/20... Step: 1000... Loss: 1.5328... Val Loss: 1.5073\n",
      "Epoch: 11/20... Step: 1010... Loss: 1.5104... Val Loss: 1.5057\n",
      "Epoch: 11/20... Step: 1020... Loss: 1.5458... Val Loss: 1.5029\n",
      "Epoch: 12/20... Step: 1030... Loss: 1.5275... Val Loss: 1.4969\n",
      "Epoch: 12/20... Step: 1040... Loss: 1.5115... Val Loss: 1.4965\n",
      "Epoch: 12/20... Step: 1050... Loss: 1.4669... Val Loss: 1.4929\n",
      "Epoch: 12/20... Step: 1060... Loss: 1.4719... Val Loss: 1.4897\n",
      "Epoch: 12/20... Step: 1070... Loss: 1.4982... Val Loss: 1.4880\n",
      "Epoch: 12/20... Step: 1080... Loss: 1.4762... Val Loss: 1.4844\n",
      "Epoch: 12/20... Step: 1090... Loss: 1.4771... Val Loss: 1.4827\n",
      "Epoch: 12/20... Step: 1100... Loss: 1.4429... Val Loss: 1.4806\n",
      "Epoch: 12/20... Step: 1110... Loss: 1.4962... Val Loss: 1.4769\n",
      "Epoch: 13/20... Step: 1120... Loss: 1.4754... Val Loss: 1.4703\n",
      "Epoch: 13/20... Step: 1130... Loss: 1.4718... Val Loss: 1.4723\n",
      "Epoch: 13/20... Step: 1140... Loss: 1.4951... Val Loss: 1.4684\n",
      "Epoch: 13/20... Step: 1150... Loss: 1.4896... Val Loss: 1.4616\n",
      "Epoch: 13/20... Step: 1160... Loss: 1.4722... Val Loss: 1.4605\n",
      "Epoch: 13/20... Step: 1170... Loss: 1.4716... Val Loss: 1.4592\n",
      "Epoch: 13/20... Step: 1180... Loss: 1.4806... Val Loss: 1.4603\n",
      "Epoch: 13/20... Step: 1190... Loss: 1.4537... Val Loss: 1.4527\n",
      "Epoch: 13/20... Step: 1200... Loss: 1.4634... Val Loss: 1.4530\n",
      "Epoch: 14/20... Step: 1210... Loss: 1.4878... Val Loss: 1.4507\n",
      "Epoch: 14/20... Step: 1220... Loss: 1.4720... Val Loss: 1.4478\n",
      "Epoch: 14/20... Step: 1230... Loss: 1.4526... Val Loss: 1.4457\n",
      "Epoch: 14/20... Step: 1240... Loss: 1.4569... Val Loss: 1.4452\n",
      "Epoch: 14/20... Step: 1250... Loss: 1.4392... Val Loss: 1.4439\n",
      "Epoch: 14/20... Step: 1260... Loss: 1.4300... Val Loss: 1.4380\n",
      "Epoch: 14/20... Step: 1270... Loss: 1.4442... Val Loss: 1.4358\n",
      "Epoch: 14/20... Step: 1280... Loss: 1.3960... Val Loss: 1.4357\n",
      "Epoch: 14/20... Step: 1290... Loss: 1.4045... Val Loss: 1.4355\n",
      "Epoch: 14/20... Step: 1300... Loss: 1.4142... Val Loss: 1.4301\n",
      "Epoch: 15/20... Step: 1310... Loss: 1.4273... Val Loss: 1.4336\n",
      "Epoch: 15/20... Step: 1320... Loss: 1.4064... Val Loss: 1.4278\n",
      "Epoch: 15/20... Step: 1330... Loss: 1.4186... Val Loss: 1.4284\n",
      "Epoch: 15/20... Step: 1340... Loss: 1.4087... Val Loss: 1.4268\n",
      "Epoch: 15/20... Step: 1350... Loss: 1.4133... Val Loss: 1.4239\n",
      "Epoch: 15/20... Step: 1360... Loss: 1.3914... Val Loss: 1.4205\n",
      "Epoch: 15/20... Step: 1370... Loss: 1.4015... Val Loss: 1.4194\n",
      "Epoch: 15/20... Step: 1380... Loss: 1.4047... Val Loss: 1.4188\n",
      "Epoch: 15/20... Step: 1390... Loss: 1.4456... Val Loss: 1.4142\n",
      "Epoch: 16/20... Step: 1400... Loss: 1.3906... Val Loss: 1.4122\n",
      "Epoch: 16/20... Step: 1410... Loss: 1.4073... Val Loss: 1.4095\n",
      "Epoch: 16/20... Step: 1420... Loss: 1.4369... Val Loss: 1.4084\n",
      "Epoch: 16/20... Step: 1430... Loss: 1.3917... Val Loss: 1.4077\n",
      "Epoch: 16/20... Step: 1440... Loss: 1.4041... Val Loss: 1.4047\n",
      "Epoch: 16/20... Step: 1450... Loss: 1.3844... Val Loss: 1.4056\n",
      "Epoch: 16/20... Step: 1460... Loss: 1.3997... Val Loss: 1.4040\n",
      "Epoch: 16/20... Step: 1470... Loss: 1.3793... Val Loss: 1.4046\n",
      "Epoch: 16/20... Step: 1480... Loss: 1.4037... Val Loss: 1.3994\n",
      "Epoch: 17/20... Step: 1490... Loss: 1.3846... Val Loss: 1.3990\n",
      "Epoch: 17/20... Step: 1500... Loss: 1.3835... Val Loss: 1.3967\n",
      "Epoch: 17/20... Step: 1510... Loss: 1.3549... Val Loss: 1.3977\n",
      "Epoch: 17/20... Step: 1520... Loss: 1.4023... Val Loss: 1.3927\n",
      "Epoch: 17/20... Step: 1530... Loss: 1.3722... Val Loss: 1.3928\n",
      "Epoch: 17/20... Step: 1540... Loss: 1.3606... Val Loss: 1.3931\n",
      "Epoch: 17/20... Step: 1550... Loss: 1.3776... Val Loss: 1.3883\n",
      "Epoch: 17/20... Step: 1560... Loss: 1.3755... Val Loss: 1.3872\n",
      "Epoch: 17/20... Step: 1570... Loss: 1.3702... Val Loss: 1.3862\n",
      "Epoch: 17/20... Step: 1580... Loss: 1.3851... Val Loss: 1.3857\n",
      "Epoch: 18/20... Step: 1590... Loss: 1.3617... Val Loss: 1.3840\n",
      "Epoch: 18/20... Step: 1600... Loss: 1.3567... Val Loss: 1.3823\n",
      "Epoch: 18/20... Step: 1610... Loss: 1.3537... Val Loss: 1.3807\n",
      "Epoch: 18/20... Step: 1620... Loss: 1.3462... Val Loss: 1.3812\n",
      "Epoch: 18/20... Step: 1630... Loss: 1.3287... Val Loss: 1.3802\n",
      "Epoch: 18/20... Step: 1640... Loss: 1.3446... Val Loss: 1.3811\n",
      "Epoch: 18/20... Step: 1650... Loss: 1.3582... Val Loss: 1.3786\n",
      "Epoch: 18/20... Step: 1660... Loss: 1.3406... Val Loss: 1.3749\n",
      "Epoch: 18/20... Step: 1670... Loss: 1.3474... Val Loss: 1.3731\n",
      "Epoch: 19/20... Step: 1680... Loss: 1.3489... Val Loss: 1.3713\n",
      "Epoch: 19/20... Step: 1690... Loss: 1.3456... Val Loss: 1.3713\n",
      "Epoch: 19/20... Step: 1700... Loss: 1.3515... Val Loss: 1.3703\n",
      "Epoch: 19/20... Step: 1710... Loss: 1.3145... Val Loss: 1.3640\n",
      "Epoch: 19/20... Step: 1720... Loss: 1.3474... Val Loss: 1.3677\n",
      "Epoch: 19/20... Step: 1730... Loss: 1.3477... Val Loss: 1.3659\n",
      "Epoch: 19/20... Step: 1740... Loss: 1.3477... Val Loss: 1.3648\n",
      "Epoch: 19/20... Step: 1750... Loss: 1.3049... Val Loss: 1.3656\n",
      "Epoch: 19/20... Step: 1760... Loss: 1.3421... Val Loss: 1.3632\n",
      "Epoch: 20/20... Step: 1770... Loss: 1.3360... Val Loss: 1.3618\n",
      "Epoch: 20/20... Step: 1780... Loss: 1.3476... Val Loss: 1.3600\n",
      "Epoch: 20/20... Step: 1790... Loss: 1.3455... Val Loss: 1.3600\n",
      "Epoch: 20/20... Step: 1800... Loss: 1.3051... Val Loss: 1.3584\n",
      "Epoch: 20/20... Step: 1810... Loss: 1.3177... Val Loss: 1.3594\n",
      "Epoch: 20/20... Step: 1820... Loss: 1.3313... Val Loss: 1.3584\n",
      "Epoch: 20/20... Step: 1830... Loss: 1.3442... Val Loss: 1.3575\n",
      "Epoch: 20/20... Step: 1840... Loss: 1.2941... Val Loss: 1.3521\n",
      "Epoch: 20/20... Step: 1850... Loss: 1.3243... Val Loss: 1.3535\n",
      "Epoch: 20/20... Step: 1860... Loss: 1.3535... Val Loss: 1.3539\n"
     ]
    }
   ],
   "source": [
    "batch_size = 128\n",
    "seq_length = 150\n",
    "n_epochs = 20 # start small if you are just testing initial behavior\n",
    "\n",
    "# train the model\n",
    "train(net, encoded, epochs=n_epochs, batch_size=batch_size, seq_length=seq_length, lr=0.001, print_every=10)"
   ]
  },
  {
   "cell_type": "markdown",
   "metadata": {},
   "source": [
    "## Getting the best model\n",
    "\n",
    "To set your hyperparameters to get the best performance, you'll want to watch the training and validation losses. If your training loss is much lower than the validation loss, you're overfitting. Increase regularization (more dropout) or use a smaller network. If the training and validation losses are close, you're underfitting so you can increase the size of the network."
   ]
  },
  {
   "cell_type": "markdown",
   "metadata": {},
   "source": [
    "## Hyperparameters\n",
    "\n",
    "Here are the hyperparameters for the network.\n",
    "\n",
    "In defining the model:\n",
    "* `n_hidden` - The number of units in the hidden layers.\n",
    "* `n_layers` - Number of hidden LSTM layers to use.\n",
    "\n",
    "We assume that dropout probability and learning rate will be kept at the default, in this example.\n",
    "\n",
    "And in training:\n",
    "* `batch_size` - Number of sequences running through the network in one pass.\n",
    "* `seq_length` - Number of characters in the sequence the network is trained on. Larger is better typically, the network will learn more long range dependencies. But it takes longer to train. 100 is typically a good number here.\n",
    "* `lr` - Learning rate for training\n",
    "\n",
    "Here's some good advice from Andrej Karpathy on training the network. I'm going to copy it in here for your benefit, but also link to [where it originally came from](https://github.com/karpathy/char-rnn#tips-and-tricks).\n",
    "\n",
    "> ## Tips and Tricks\n",
    "\n",
    ">### Monitoring Validation Loss vs. Training Loss\n",
    ">If you're somewhat new to Machine Learning or Neural Networks it can take a bit of expertise to get good models. The most important quantity to keep track of is the difference between your training loss (printed during training) and the validation loss (printed once in a while when the RNN is run on the validation data (by default every 1000 iterations)). In particular:\n",
    "\n",
    "> - If your training loss is much lower than validation loss then this means the network might be **overfitting**. Solutions to this are to decrease your network size, or to increase dropout. For example you could try dropout of 0.5 and so on.\n",
    "> - If your training/validation loss are about equal then your model is **underfitting**. Increase the size of your model (either number of layers or the raw number of neurons per layer)\n",
    "\n",
    "> ### Approximate number of parameters\n",
    "\n",
    "> The two most important parameters that control the model are `n_hidden` and `n_layers`. I would advise that you always use `n_layers` of either 2/3. The `n_hidden` can be adjusted based on how much data you have. The two important quantities to keep track of here are:\n",
    "\n",
    "> - The number of parameters in your model. This is printed when you start training.\n",
    "> - The size of your dataset. 1MB file is approximately 1 million characters.\n",
    "\n",
    ">These two should be about the same order of magnitude. It's a little tricky to tell. Here are some examples:\n",
    "\n",
    "> - I have a 100MB dataset and I'm using the default parameter settings (which currently print 150K parameters). My data size is significantly larger (100 mil >> 0.15 mil), so I expect to heavily underfit. I am thinking I can comfortably afford to make `n_hidden` larger.\n",
    "> - I have a 10MB dataset and running a 10 million parameter model. I'm slightly nervous and I'm carefully monitoring my validation loss. If it's larger than my training loss then I may want to try to increase dropout a bit and see if that helps the validation loss.\n",
    "\n",
    "> ### Best models strategy\n",
    "\n",
    ">The winning strategy to obtaining very good models (if you have the compute time) is to always err on making the network larger (as large as you're willing to wait for it to compute) and then try different dropout values (between 0,1). Whatever model has the best validation performance (the loss, written in the checkpoint filename, low is good) is the one you should use in the end.\n",
    "\n",
    ">It is very common in deep learning to run many different models with many different hyperparameter settings, and in the end take whatever checkpoint gave the best validation performance.\n",
    "\n",
    ">By the way, the size of your training and validation splits are also parameters. Make sure you have a decent amount of data in your validation set or otherwise the validation performance will be noisy and not very informative."
   ]
  },
  {
   "cell_type": "markdown",
   "metadata": {},
   "source": [
    "## Checkpoint\n",
    "\n",
    "After training, we'll save the model so we can load it again later if we need too. Here I'm saving the parameters needed to create the same architecture, the hidden layer hyperparameters and the text characters."
   ]
  },
  {
   "cell_type": "code",
   "execution_count": 37,
   "metadata": {},
   "outputs": [],
   "source": [
    "# change the name, for saving multiple files\n",
    "model_name = 'rnn_x_epoch.net'\n",
    "\n",
    "checkpoint = {'n_hidden': net.n_hidden,\n",
    "              'n_layers': net.n_layers,\n",
    "              'state_dict': net.state_dict(),\n",
    "              'tokens': net.chars}\n",
    "\n",
    "with open(model_name, 'wb') as f:\n",
    "    torch.save(checkpoint, f)"
   ]
  },
  {
   "cell_type": "markdown",
   "metadata": {},
   "source": [
    "---\n",
    "## Making Predictions\n",
    "\n",
    "Now that the model is trained, we'll want to sample from it and make predictions about next characters! To sample, we pass in a character and have the network predict the next character. Then we take that character, pass it back in, and get another predicted character. Just keep doing this and you'll generate a bunch of text!\n",
    "\n",
    "### A note on the `predict`  function\n",
    "\n",
    "The output of our RNN is from a fully-connected layer and it outputs a **distribution of next-character scores**.\n",
    "\n",
    "> To actually get the next character, we apply a softmax function, which gives us a *probability* distribution that we can then sample to predict the next character.\n",
    "\n",
    "### Top K sampling\n",
    "\n",
    "Our predictions come from a categorical probability distribution over all the possible characters. We can make the sample text and make it more reasonable to handle (with less variables) by only considering some $K$ most probable characters. This will prevent the network from giving us completely absurd characters while allowing it to introduce some noise and randomness into the sampled text. Read more about [topk, here](https://pytorch.org/docs/stable/torch.html#torch.topk).\n"
   ]
  },
  {
   "cell_type": "code",
   "execution_count": 38,
   "metadata": {},
   "outputs": [],
   "source": [
    "def predict(net, char, h=None, top_k=None):\n",
    "        ''' Given a character, predict the next character.\n",
    "            Returns the predicted character and the hidden state.\n",
    "        '''\n",
    "        \n",
    "        # tensor inputs\n",
    "        x = np.array([[net.char2int[char]]])\n",
    "        x = one_hot_encode(x, len(net.chars))\n",
    "        inputs = torch.from_numpy(x)\n",
    "        \n",
    "        if(train_on_gpu):\n",
    "            inputs = inputs.cuda()\n",
    "        \n",
    "        # detach hidden state from history\n",
    "        h = tuple([each.data for each in h])\n",
    "        # get the output of the model\n",
    "        out, h = net(inputs, h)\n",
    "\n",
    "        # get the character probabilities\n",
    "        p = F.softmax(out, dim=1).data\n",
    "        if(train_on_gpu):\n",
    "            p = p.cpu() # move to cpu\n",
    "        \n",
    "        # get top characters\n",
    "        if top_k is None:\n",
    "            top_ch = np.arange(len(net.chars))\n",
    "        else:\n",
    "            p, top_ch = p.topk(top_k)\n",
    "            top_ch = top_ch.numpy().squeeze()\n",
    "        \n",
    "        # select the likely next character with some element of randomness\n",
    "        p = p.numpy().squeeze()\n",
    "        char = np.random.choice(top_ch, p=p/p.sum())\n",
    "        \n",
    "        # return the encoded value of the predicted char and the hidden state\n",
    "        return net.int2char[char], h"
   ]
  },
  {
   "cell_type": "markdown",
   "metadata": {},
   "source": [
    "### Priming and generating text \n",
    "\n",
    "Typically you'll want to prime the network so you can build up a hidden state. Otherwise the network will start out generating characters at random. In general the first bunch of characters will be a little rough since it hasn't built up a long history of characters to predict from."
   ]
  },
  {
   "cell_type": "code",
   "execution_count": 39,
   "metadata": {},
   "outputs": [],
   "source": [
    "def sample(net, size, prime='The', top_k=None):\n",
    "        \n",
    "    if(train_on_gpu):\n",
    "        net.cuda()\n",
    "    else:\n",
    "        net.cpu()\n",
    "    \n",
    "    net.eval() # eval mode\n",
    "    \n",
    "    # First off, run through the prime characters\n",
    "    chars = [ch for ch in prime]\n",
    "    h = net.init_hidden(1)\n",
    "    for ch in prime:\n",
    "        char, h = predict(net, ch, h, top_k=top_k)\n",
    "\n",
    "    chars.append(char)\n",
    "    \n",
    "    # Now pass in the previous character and get a new one\n",
    "    for ii in range(size):\n",
    "        char, h = predict(net, chars[-1], h, top_k=top_k)\n",
    "        chars.append(char)\n",
    "\n",
    "    return ''.join(chars)"
   ]
  },
  {
   "cell_type": "code",
   "execution_count": 44,
   "metadata": {},
   "outputs": [
    {
     "name": "stdout",
     "output_type": "stream",
     "text": [
      "Jehanne. As that he was at his hands, a linel of\n",
      "a streng and all of the same\n",
      "position in the\n",
      "send in the same table, that he was time to see\n",
      "her.\n",
      "\n",
      "\"You could not be a man of the same day, and this is a lawy, I would be treing to get out\n",
      "of them.\n",
      "\n",
      "\"I am as thinking with you? Why, I'm not in him and\n",
      "a member of the\n",
      "first of me,\n",
      "and I want to me. I said, as soon that I was it a sigheral painfor my first. But in the cold\n",
      "way of the carried might they would came to me, whom the leasur of sension won the sight to the dististenting on this such a servant. Hidself and tell you,\" said\n",
      "Levin, shading\n",
      "his fingers, but a still candine and changed and smiling at the change.\n",
      "\n",
      "Taking his stear sense that he were thought of attaction was as though there had always been such an house and\n",
      "considering of the pliess of the carriages with his humes, her mind,\n",
      "and\n",
      "to have stailed her thousand at once whom the sight of the stuling\n",
      "same.\n",
      "\n",
      "\"Where's so some,\" said Stepan Arkadyevitch, sawing her hand on seen all\n",
      "the wo\n"
     ]
    }
   ],
   "source": [
    "print(sample(net, 1000, prime='Jehanne.', top_k=5))"
   ]
  },
  {
   "cell_type": "markdown",
   "metadata": {},
   "source": [
    "## Loading a checkpoint"
   ]
  },
  {
   "cell_type": "code",
   "execution_count": 26,
   "metadata": {},
   "outputs": [],
   "source": [
    "# Here we have loaded in a model that trained over 20 epochs `rnn_20_epoch.net`\n",
    "with open('rnn_x_epoch.net', 'rb') as f:\n",
    "    checkpoint = torch.load(f)\n",
    "    \n",
    "loaded = CharRNN(checkpoint['tokens'], n_hidden=checkpoint['n_hidden'], n_layers=checkpoint['n_layers'])\n",
    "loaded.load_state_dict(checkpoint['state_dict'])"
   ]
  },
  {
   "cell_type": "code",
   "execution_count": 32,
   "metadata": {},
   "outputs": [
    {
     "name": "stdout",
     "output_type": "stream",
     "text": [
      "Jehanne. And he, shis the sincost. \"Yes, I don't\n",
      "stold-be is one at to arrought in is\n",
      "way\n",
      "any to so the porititall of hurding terling, I'm the pectorss of the better the corvicion and stried. I' langer that thought,\" as she had to\n",
      "steel impersation, and all thoull train to but the perition of some\n",
      "though\n",
      "howneds whote his\n",
      "felt of the\n",
      "rectian the\n",
      "preasion with his fertions weald, and had be a grat his she was not\n",
      "a surd, has begone of ime to shat the much. She said a counders, and so the first one to his, the parsion\n",
      "of the porite was time the proncess, and who had such a cratcious took\n",
      "her face who stepless,\n",
      "which had nothing the countess at this at all and a chards, the sair, and him this was sout of it of the\n",
      "maress. \"I const at his, and word it as the mearers.\n",
      "Would so and a ling all him, and seether thene of the complecter in to see it was not the mest on. Sar the moment of the\n",
      "frest to her tole the colders of her as to his brother that, and the posciol was to bat tho gant a lote ans asten of the\n",
      "rust, and as the sead of a light with the mistlingse of him. He thinked\n",
      "to be seened\n",
      "him the peacise the some and which the satered off head it him see terrould of a more, he whent who was steart of\n",
      "a mind to her she said. The maness, whe seems.\"\n",
      "\n",
      "And they the same to see to hume had barked to him. The heast of the\n",
      "reared that\n",
      "the condersation, that\n",
      "she was asted in the\n",
      "pass word his fined with his back to the for wat a cartions, took onterend the points.\n",
      "\n",
      "Shippositch what had\n",
      "ang a canche was hand, beto her\n",
      "eyes. All\n",
      "the came the forting on the stould to the searing to him his fores to\n",
      "his wat, this hould to her\n",
      "that the secter all she was thought and had been he was stound and he went to hard her she\n",
      "had beer supped in the\n",
      "parsion,\n",
      "the contries, and to a crared of come on the sind, the face of the more and the prossian of his..\n",
      "\n",
      "\n",
      "\n",
      "Chapter 10\n",
      " \n",
      "\n",
      "\n",
      "Chipper 32\n",
      "\n",
      "\n",
      "\"I'm some a callly wite all strong to her a start. And they't the sime in the sere.\n",
      "\"I am and so all to think of tham th\n"
     ]
    }
   ],
   "source": [
    "# Sample using a loaded model\n",
    "print(sample(loaded, 2000, top_k=5, prime=\"Jehanne.\"))"
   ]
  },
  {
   "cell_type": "code",
   "execution_count": null,
   "metadata": {
    "collapsed": true
   },
   "outputs": [],
   "source": []
  }
 ],
 "metadata": {
  "kernelspec": {
   "display_name": "Python 3",
   "language": "python",
   "name": "python3"
  },
  "language_info": {
   "codemirror_mode": {
    "name": "ipython",
    "version": 3
   },
   "file_extension": ".py",
   "mimetype": "text/x-python",
   "name": "python",
   "nbconvert_exporter": "python",
   "pygments_lexer": "ipython3",
   "version": "3.7.5"
  }
 },
 "nbformat": 4,
 "nbformat_minor": 2
}
