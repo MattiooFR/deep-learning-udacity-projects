{
 "cells": [
  {
   "cell_type": "markdown",
   "metadata": {},
   "source": [
    "# Neural networks with PyTorch\n",
    "\n",
    "Deep learning networks tend to be massive with dozens or hundreds of layers, that's where the term \"deep\" comes from. You can build one of these deep networks using only weight matrices as we did in the previous notebook, but in general it's very cumbersome and difficult to implement. PyTorch has a nice module `nn` that provides a nice way to efficiently build large neural networks."
   ]
  },
  {
   "cell_type": "code",
   "execution_count": 1,
   "metadata": {},
   "outputs": [],
   "source": [
    "# Import necessary packages\n",
    "\n",
    "%matplotlib inline\n",
    "%config InlineBackend.figure_format = 'retina'\n",
    "\n",
    "import numpy as np\n",
    "import torch\n",
    "\n",
    "import helper\n",
    "\n",
    "import matplotlib.pyplot as plt"
   ]
  },
  {
   "cell_type": "markdown",
   "metadata": {},
   "source": [
    "\n",
    "Now we're going to build a larger network that can solve a (formerly) difficult problem, identifying text in an image. Here we'll use the MNIST dataset which consists of greyscale handwritten digits. Each image is 28x28 pixels, you can see a sample below\n",
    "\n",
    "<img src='assets/mnist.png'>\n",
    "\n",
    "Our goal is to build a neural network that can take one of these images and predict the digit in the image.\n",
    "\n",
    "First up, we need to get our dataset. This is provided through the `torchvision` package. The code below will download the MNIST dataset, then create training and test datasets for us. Don't worry too much about the details here, you'll learn more about this later."
   ]
  },
  {
   "cell_type": "code",
   "execution_count": 2,
   "metadata": {},
   "outputs": [],
   "source": [
    "### Run this cell\n",
    "\n",
    "from torchvision import datasets, transforms\n",
    "\n",
    "# Define a transform to normalize the data\n",
    "transform = transforms.Compose([transforms.ToTensor(),\n",
    "                              transforms.Normalize((0.5,), (0.5,)),\n",
    "                              ])\n",
    "\n",
    "# Download and load the training data\n",
    "trainset = datasets.MNIST('~/.pytorch/MNIST_data/', download=True, train=True, transform=transform)\n",
    "trainloader = torch.utils.data.DataLoader(trainset, batch_size=64, shuffle=True)"
   ]
  },
  {
   "cell_type": "markdown",
   "metadata": {},
   "source": [
    "We have the training data loaded into `trainloader` and we make that an iterator with `iter(trainloader)`. Later, we'll use this to loop through the dataset for training, like\n",
    "\n",
    "```python\n",
    "for image, label in trainloader:\n",
    "    ## do things with images and labels\n",
    "```\n",
    "\n",
    "You'll notice I created the `trainloader` with a batch size of 64, and `shuffle=True`. The batch size is the number of images we get in one iteration from the data loader and pass through our network, often called a *batch*. And `shuffle=True` tells it to shuffle the dataset every time we start going through the data loader again. But here I'm just grabbing the first batch so we can check out the data. We can see below that `images` is just a tensor with size `(64, 1, 28, 28)`. So, 64 images per batch, 1 color channel, and 28x28 images."
   ]
  },
  {
   "cell_type": "code",
   "execution_count": 3,
   "metadata": {},
   "outputs": [
    {
     "name": "stdout",
     "output_type": "stream",
     "text": [
      "<class 'torch.Tensor'>\n",
      "torch.Size([64, 1, 28, 28])\n",
      "torch.Size([64])\n"
     ]
    }
   ],
   "source": [
    "dataiter = iter(trainloader)\n",
    "images, labels = dataiter.next()\n",
    "print(type(images))\n",
    "print(images.shape)\n",
    "print(labels.shape)"
   ]
  },
  {
   "cell_type": "markdown",
   "metadata": {},
   "source": [
    "This is what one of the images looks like. "
   ]
  },
  {
   "cell_type": "code",
   "execution_count": 5,
   "metadata": {},
   "outputs": [
    {
     "data": {
      "image/png": "[encoded data removed]",
      "text/plain": [
       "<Figure size 432x288 with 1 Axes>"
      ]
     },
     "metadata": {
      "image/png": {
       "height": 248,
       "width": 251
      },
      "needs_background": "dark"
     },
     "output_type": "display_data"
    }
   ],
   "source": [
    "plt.imshow(images[1].numpy().squeeze(), cmap='Greys_r');"
   ]
  },
  {
   "cell_type": "markdown",
   "metadata": {},
   "source": [
    "First, let's try to build a simple network for this dataset using weight matrices and matrix multiplications. Then, we'll see how to do it using PyTorch's `nn` module which provides a much more convenient and powerful method for defining network architectures.\n",
    "\n",
    "The networks you've seen so far are called *fully-connected* or *dense* networks. Each unit in one layer is connected to each unit in the next layer. In fully-connected networks, the input to each layer must be a one-dimensional vector (which can be stacked into a 2D tensor as a batch of multiple examples). However, our images are 28x28 2D tensors, so we need to convert them into 1D vectors. Thinking about sizes, we need to convert the batch of images with shape `(64, 1, 28, 28)` to a have a shape of `(64, 784)`, 784 is 28 times 28. This is typically called *flattening*, we flattened the 2D images into 1D vectors.\n",
    "\n",
    "Previously you built a network with one output unit. Here we need 10 output units, one for each digit. We want our network to predict the digit shown in an image, so what we'll do is calculate probabilities that the image is of any one digit or class. This ends up being a discrete probability distribution over the classes (digits) that tells us the most likely class for the image. That means we need 10 output units for the 10 classes (digits). We'll see how to convert the network output into a probability distribution next.\n",
    "\n",
    "> **Exercise:** Flatten the batch of images `images`. Then build a multi-layer network with 784 input units, 256 hidden units, and 10 output units using random tensors for the weights and biases. For now, use a sigmoid activation for the hidden layer. Leave the output layer without an activation, we'll add one that gives us a probability distribution next."
   ]
  },
  {
   "cell_type": "code",
   "execution_count": 20,
   "metadata": {},
   "outputs": [
    {
     "data": {
      "text/plain": [
       "64"
      ]
     },
     "execution_count": 20,
     "metadata": {},
     "output_type": "execute_result"
    }
   ],
   "source": [
    "images.shape[0]"
   ]
  },
  {
   "cell_type": "code",
   "execution_count": 28,
   "metadata": {},
   "outputs": [
    {
     "name": "stdout",
     "output_type": "stream",
     "text": [
      "tensor([[-1.8704e+01, -8.2025e+00,  1.1285e+01, -1.2489e+01,  6.5286e+00,\n",
      "          8.1032e+00, -4.0207e+00,  2.4312e-01, -1.3207e+01, -8.2339e-01],\n",
      "        [-4.7753e+00, -3.4909e+00, -5.7990e+00, -9.3831e+00,  7.3872e+00,\n",
      "          6.6849e+00, -7.5886e+00, -5.6194e+00, -1.2844e+01,  1.3249e+00],\n",
      "        [-8.2850e+00, -1.7011e+01,  8.3711e-01, -3.3219e+00,  9.2749e+00,\n",
      "          6.4739e+00, -8.4812e+00,  3.8681e+00, -1.4867e+01, -8.2224e+00],\n",
      "        [-9.9108e+00, -5.5914e+00,  9.5274e-01, -1.6523e+00,  3.8590e+00,\n",
      "          1.0724e+01, -8.6461e+00, -7.0694e+00, -1.3592e+01,  3.2697e+00],\n",
      "        [-2.0266e+01, -1.2308e+01, -3.0986e+00, -3.8797e+00,  9.7751e+00,\n",
      "          5.2560e+00, -4.9650e+00,  3.2991e+00, -1.3175e+01, -5.7777e+00],\n",
      "        [-8.3182e+00, -1.5225e+01, -5.0421e-02, -7.5401e+00,  1.0096e+01,\n",
      "          4.3852e+00,  7.9729e+00, -3.6923e+00, -9.4324e+00, -7.5487e+00],\n",
      "        [-1.9589e+01, -1.6027e+00,  2.0704e+00, -3.1886e+00,  1.4199e+01,\n",
      "          3.2661e-01, -1.1065e+01, -2.3867e+00, -3.2693e+00, -1.3069e+00],\n",
      "        [-1.4195e+01, -1.1704e+01, -1.9665e+00, -1.4014e+01,  8.9294e+00,\n",
      "          7.0990e+00, -1.4994e+00,  2.1792e-02, -1.0481e+01, -4.9905e+00],\n",
      "        [-1.4758e+01, -9.0027e+00, -4.3876e-01, -1.7133e+01,  1.0780e+00,\n",
      "          7.5767e+00, -9.0264e+00,  8.8723e+00, -5.9243e+00, -1.2492e+00],\n",
      "        [-1.9071e+01, -8.4432e+00, -5.3121e+00, -4.6315e+00,  1.0792e+01,\n",
      "          4.1651e+00, -8.5337e+00, -2.6087e+00, -1.4563e+01, -2.9058e+00],\n",
      "        [-1.0701e+01, -7.4446e+00, -9.2284e+00, -1.1722e+01,  1.2083e+01,\n",
      "          6.2872e+00, -9.2454e+00,  8.9730e+00, -1.8404e+01, -3.1185e+00],\n",
      "        [-4.8949e+00, -4.3211e+00,  3.4110e-01, -1.3466e+01, -1.1240e+00,\n",
      "          4.3208e-01, -2.2662e+00, -4.6974e+00, -1.0779e+01, -7.9109e-01],\n",
      "        [-1.0486e+01, -1.2918e+01,  2.5506e+00, -1.5777e+00,  1.2908e+01,\n",
      "          9.9657e+00,  1.3856e-01, -2.3427e+00, -4.4758e+00, -6.1093e+00],\n",
      "        [-1.0178e+01,  4.5369e-01, -5.1240e+00, -1.2764e+01,  8.2321e+00,\n",
      "          4.2443e+00, -1.0455e+01,  5.7646e+00, -1.5346e+01, -6.9498e+00],\n",
      "        [-1.0836e+01, -9.9509e+00,  3.0020e+00, -1.2277e+01,  1.3041e-02,\n",
      "          5.9407e+00, -7.7966e+00,  2.4052e+00, -1.3457e+01, -1.9355e+00],\n",
      "        [-1.4345e+01, -1.2600e+01,  4.6918e+00, -7.6445e+00,  1.7875e+01,\n",
      "          1.0249e+00, -4.3668e+00,  8.3041e+00, -1.0754e+01,  2.2400e+00],\n",
      "        [-1.3603e+01, -2.1045e+00, -1.1823e+00, -6.0133e+00,  1.2448e+01,\n",
      "          3.0605e+00, -5.6955e+00,  4.0984e+00, -6.1113e+00, -1.5661e+00],\n",
      "        [-2.2851e+01, -1.3807e+01, -5.7928e+00, -8.4139e+00,  9.1379e+00,\n",
      "         -1.4618e+00, -2.0844e+00,  8.0321e+00, -1.3931e+01, -5.1701e+00],\n",
      "        [-1.9494e+01, -1.5755e+00,  9.5779e+00, -7.0502e+00,  1.9292e+01,\n",
      "          3.2447e+00, -6.3135e+00,  1.0132e+01, -1.5510e+01, -3.0115e+00],\n",
      "        [-1.0842e+01, -1.2473e+01, -7.3512e-01, -8.1714e+00,  8.7748e+00,\n",
      "          1.6610e-02, -1.1660e+01,  8.5698e+00, -7.8884e+00, -4.4617e+00],\n",
      "        [-1.4616e+01, -1.3789e+01,  2.8817e+00, -1.4524e+00,  6.7109e+00,\n",
      "          8.9193e+00,  2.7249e+00, -6.5003e+00, -1.6228e+01, -3.3625e-01],\n",
      "        [-1.1658e+01, -5.3183e+00,  5.1233e-01, -8.6931e+00,  7.8243e+00,\n",
      "          1.1466e+01, -2.5833e+00,  1.0592e+01, -3.5249e+00, -2.3755e+00],\n",
      "        [-1.5169e+01, -7.4437e+00, -2.2594e+00, -7.2747e+00,  8.9153e+00,\n",
      "          1.0691e+01,  2.4520e+00,  1.5625e+00, -1.1154e+01,  4.5902e+00],\n",
      "        [-1.4194e+01, -4.3577e+00,  1.6812e+00, -1.1682e+01,  6.6726e+00,\n",
      "          8.6426e+00, -1.1049e+01,  5.0472e-01, -1.7425e+01,  2.4260e+00],\n",
      "        [-1.6209e+01, -3.9763e+00, -1.0996e+00, -1.7300e+01,  3.8002e+00,\n",
      "          6.7999e+00, -7.9994e-01,  2.8697e+00, -9.9157e+00, -6.4673e+00],\n",
      "        [-1.6130e+01, -7.7017e+00, -3.8103e+00, -1.6102e+01,  1.5140e+01,\n",
      "          8.2728e+00, -6.6166e+00,  4.7370e+00, -1.7227e+01, -5.9748e+00],\n",
      "        [-1.2648e+01, -1.3029e+01,  2.1947e+00, -7.6642e+00,  1.3743e+00,\n",
      "          1.4478e+01, -1.5138e+00,  5.6871e+00, -8.4272e+00, -3.5193e+00],\n",
      "        [-8.0471e+00,  5.3014e+00, -9.2380e+00, -1.1416e+01,  8.1863e+00,\n",
      "          4.4745e+00, -7.0879e+00, -3.5889e+00, -1.2072e+01, -8.7750e+00],\n",
      "        [-1.6904e+01, -1.6041e+00, -1.6288e+01, -8.4548e+00,  8.7706e+00,\n",
      "          7.0545e+00, -4.0520e+00,  2.9693e+00, -1.4909e+01, -4.1594e+00],\n",
      "        [-8.9230e+00, -1.1045e+01, -3.0919e+00,  5.0164e-01,  5.9551e+00,\n",
      "          7.9582e+00, -5.5893e+00,  3.4929e+00, -1.0403e+01, -7.2770e+00],\n",
      "        [-1.3695e+01, -7.4713e+00,  2.6075e+00, -1.9622e+01,  9.5784e+00,\n",
      "          1.1074e+01,  7.4849e+00,  1.1953e+01, -1.0804e+01, -7.2627e+00],\n",
      "        [-1.4192e+01, -6.3663e+00, -2.6143e+00, -7.8272e+00,  7.6525e+00,\n",
      "         -2.0682e-01, -3.4311e+00,  1.0757e+01, -7.8865e+00, -8.0121e-01],\n",
      "        [-2.1430e+01, -1.0175e+01,  7.6624e+00, -9.8958e+00,  3.1401e+00,\n",
      "          1.5046e+00, -6.3825e+00,  4.9003e+00, -1.6736e+01, -3.0067e+00],\n",
      "        [-2.6047e+01, -6.8449e+00, -2.0586e+00,  8.4833e+00,  9.3194e+00,\n",
      "          1.0349e+01, -1.7380e+01,  3.5729e+00, -1.1603e+01,  3.2603e-01],\n",
      "        [-1.3363e+01, -9.7810e+00, -3.8546e-01, -1.5993e-01,  1.3188e+01,\n",
      "          2.8276e+00, -5.1444e+00,  3.9730e+00, -1.4620e+01,  2.4211e-01],\n",
      "        [-1.4828e+01, -1.3879e+01,  2.7948e+00,  6.7719e-01,  9.5687e+00,\n",
      "          1.3682e+01, -1.0670e+01, -3.7403e+00, -1.3424e+01, -4.2788e+00],\n",
      "        [-7.9501e+00, -2.5552e+00,  3.5521e+00, -1.2413e+01,  1.0357e+01,\n",
      "          3.1960e+00, -3.4606e+00, -2.6289e+00, -1.1267e+01, -8.1037e+00],\n",
      "        [-9.9253e+00, -7.8783e-01, -4.9294e+00, -1.3923e+01,  7.6014e+00,\n",
      "          1.6515e+01, -1.1175e+01,  6.6884e+00, -6.1690e+00,  1.4092e+00],\n",
      "        [-1.1410e+01, -1.2999e+01, -4.0892e+00, -5.0742e+00,  1.3710e+01,\n",
      "          8.6639e+00, -6.9666e+00,  1.5837e+00, -1.4680e+01, -3.7723e+00],\n",
      "        [-4.1785e+00, -2.3057e+00, -1.7214e+00, -7.6000e+00,  2.1253e+01,\n",
      "         -2.5489e+00, -3.4007e+00,  2.2093e+00, -6.4046e+00, -2.1655e+00],\n",
      "        [-2.3425e+01, -9.4454e+00,  3.0195e+00, -1.1728e+01,  5.2060e+00,\n",
      "          7.9740e+00, -3.2533e+00, -2.2696e+00, -1.8948e+01, -3.8413e+00],\n",
      "        [-8.9889e+00, -8.0122e+00, -2.5527e+00, -9.5683e+00, -1.4909e-01,\n",
      "          3.6581e+00, -4.8780e+00,  2.3722e+00, -2.9380e+00,  5.3787e+00],\n",
      "        [-1.1719e+01, -1.8475e+01, -2.8145e+00, -1.4250e+01,  3.4964e+00,\n",
      "          1.0955e+01,  3.7464e+00, -1.1792e+00, -1.7060e+01, -1.1794e+01],\n",
      "        [-1.2252e+01, -9.3069e+00, -4.4836e+00, -8.4820e+00,  2.1912e+00,\n",
      "          5.8547e+00, -1.6508e+01, -2.7611e+00, -9.5932e+00, -5.1575e+00],\n",
      "        [-1.2967e+01, -7.2498e+00,  6.5241e+00, -5.1742e+00,  1.0573e+01,\n",
      "          4.2562e+00, -7.9426e+00,  3.5007e+00, -7.0185e+00, -7.7277e+00],\n",
      "        [-1.2840e+01, -5.4858e+00,  8.8821e-01, -1.1656e+01,  2.8068e+00,\n",
      "         -7.6351e+00, -3.4831e+00,  1.9625e+00, -1.5222e+01, -1.7181e+00],\n",
      "        [-1.6529e+01, -1.1072e+01, -1.1762e+00, -8.0684e+00, -4.6168e-01,\n",
      "          1.2588e+01, -1.4820e+01, -4.4152e-01, -1.2596e+01,  6.7367e-01],\n",
      "        [-8.8827e+00, -1.5734e+01, -8.2444e+00, -6.6796e+00,  6.0894e+00,\n",
      "          9.5941e+00,  2.0399e+00,  2.9400e+00, -9.9387e+00, -4.6350e+00],\n",
      "        [-1.0826e+01, -5.8862e+00, -2.3593e+00, -5.9981e+00,  1.1546e+01,\n",
      "          6.4823e+00, -6.9976e+00,  7.0827e+00, -1.4627e+01, -4.9210e+00],\n",
      "        [-1.1663e+01, -5.7154e+00, -1.8076e-01, -1.0009e+01,  6.3245e+00,\n",
      "          1.0092e+01, -7.8876e+00,  1.2106e+00, -8.6592e+00, -3.2035e+00],\n",
      "        [-5.4089e+00, -6.1498e+00,  2.5804e+00, -9.0710e+00, -1.7576e+00,\n",
      "          1.0338e+01, -5.5334e+00,  3.0526e+00, -1.3709e+01, -4.6243e+00],\n",
      "        [-2.0650e+01, -5.0644e+00, -6.0815e+00, -6.6535e+00,  2.6377e+00,\n",
      "          3.5582e+00, -1.2343e+01, -5.9414e+00, -1.2276e+01, -2.7249e+00],\n",
      "        [-8.8812e+00, -2.6154e+00,  7.0714e-01, -1.2217e+01, -7.1732e-01,\n",
      "          1.4961e+01, -1.0131e+01, -1.5072e+01, -1.6366e+01,  2.6978e+00],\n",
      "        [-1.7766e+01, -4.9902e+00,  8.6779e-01, -1.2094e+00,  1.3883e+01,\n",
      "          2.4056e+00, -3.5581e+00, -6.4762e+00, -1.0689e+01, -3.0990e+00],\n",
      "        [-1.3094e+01,  4.4609e-01, -3.3773e+00, -7.8963e+00,  6.9993e+00,\n",
      "         -6.3508e+00, -8.7679e+00,  1.0361e+01, -1.3373e+01, -4.1627e+00],\n",
      "        [-1.3121e+01, -1.1007e+01, -5.0682e+00, -1.2428e+01,  9.6225e+00,\n",
      "          6.6461e+00, -7.3126e-02,  6.4683e+00, -7.8600e+00, -4.6957e+00],\n",
      "        [-7.8985e+00, -1.2647e+01, -5.4651e+00, -2.3298e+01,  2.1775e+00,\n",
      "          6.3798e+00, -9.7691e+00,  2.8487e+00, -8.6122e+00, -3.0528e+00],\n",
      "        [-1.1744e+01, -9.8793e+00, -2.4986e+00, -3.6710e+00,  1.7377e+01,\n",
      "         -1.3874e+00, -1.1160e+00,  5.8698e-01, -1.1798e+01, -4.3920e+00],\n",
      "        [-1.0008e+01,  2.2288e+00,  7.5559e+00, -5.1919e+00,  2.9863e+00,\n",
      "          3.0008e+00, -3.4113e+00, -2.8612e+00, -1.4027e+01,  8.4036e+00],\n",
      "        [-1.6859e+01, -2.1049e+01, -6.9077e+00, -1.2754e+01,  2.8187e+00,\n",
      "          5.9607e+00, -1.0220e+01,  3.9852e+00, -7.3065e+00, -3.2718e+00],\n",
      "        [-1.5771e+01, -4.1035e+00, -2.6581e+00, -1.9055e+01,  8.1349e+00,\n",
      "          9.5357e+00,  1.4418e+00,  9.8502e+00, -1.5257e+01, -4.3077e+00],\n",
      "        [-1.0869e+01, -7.4986e+00, -3.8247e+00, -1.1439e+01,  9.4141e+00,\n",
      "          9.5525e+00, -3.9155e+00,  2.8682e+00, -1.8699e+01, -1.5713e+01],\n",
      "        [-2.0486e+01, -5.5391e+00,  3.4262e+00, -3.3727e-01,  6.2015e+00,\n",
      "          1.0387e+01, -7.7042e+00, -8.0749e+00, -7.1479e+00,  1.2421e+01],\n",
      "        [-1.0505e+01,  5.3487e+00, -7.5759e+00, -7.1789e+00, -5.7696e-01,\n",
      "          8.9904e+00, -6.2315e+00, -8.1256e+00, -1.7697e+01, -3.6039e+00]])\n"
     ]
    }
   ],
   "source": [
    "## Your solution\n",
    "def activation(x):\n",
    "    return 1/(1+torch.exp(-x))\n",
    "\n",
    "### Generate some data\n",
    "torch.manual_seed(7) # Set the random seed so things are predictable\n",
    "\n",
    "# Define the size of each layer in our network\n",
    "n_input = images.view(64,784)     # Number of input units, must match number of input features\n",
    "n_hidden = 256                   # Number of hidden units \n",
    "n_output = 10                    # Number of output units\n",
    "\n",
    "# Weights for inputs to hidden layer\n",
    "W1 = torch.randn(n_input.shape[1], n_hidden)\n",
    "# Weights for hidden layer to output layer\n",
    "W2 = torch.randn(n_hidden, n_output)\n",
    "\n",
    "# and bias terms for hidden and output layers\n",
    "B1 = torch.randn(n_hidden)\n",
    "B2 = torch.randn(n_output)\n",
    "\n",
    "\n",
    "hidden_output = activation(torch.mm(n_input, W1)+B1)\n",
    "out = torch.mm(hidden_output,W2) + B2# output of your network, should have shape (64,10)\n",
    "print(out)"
   ]
  },
  {
   "cell_type": "code",
   "execution_count": 36,
   "metadata": {},
   "outputs": [
    {
     "name": "stdout",
     "output_type": "stream",
     "text": [
      "torch.Size([64, 10])\n"
     ]
    }
   ],
   "source": [
    "print((torch.exp(out)/torch.sum(torch.exp(out), dim=1).view(64,1)).shape)\n"
   ]
  },
  {
   "cell_type": "markdown",
   "metadata": {},
   "source": [
    "Now we have 10 outputs for our network. We want to pass in an image to our network and get out a probability distribution over the classes that tells us the likely class(es) the image belongs to. Something that looks like this:\n",
    "<img src='assets/image_distribution.png' width=500px>\n",
    "\n",
    "Here we see that the probability for each class is roughly the same. This is representing an untrained network, it hasn't seen any data yet so it just returns a uniform distribution with equal probabilities for each class.\n",
    "\n",
    "To calculate this probability distribution, we often use the [**softmax** function](https://en.wikipedia.org/wiki/Softmax_function). Mathematically this looks like\n",
    "\n",
    "$$\n",
    "\\Large \\sigma(x_i) = \\cfrac{e^{x_i}}{\\sum_k^K{e^{x_k}}}\n",
    "$$\n",
    "\n",
    "What this does is squish each input $x_i$ between 0 and 1 and normalizes the values to give you a proper probability distribution where the probabilites sum up to one.\n",
    "\n",
    "> **Exercise:** Implement a function `softmax` that performs the softmax calculation and returns probability distributions for each example in the batch. Note that you'll need to pay attention to the shapes when doing this. If you have a tensor `a` with shape `(64, 10)` and a tensor `b` with shape `(64,)`, doing `a/b` will give you an error because PyTorch will try to do the division across the columns (called broadcasting) but you'll get a size mismatch. The way to think about this is for each of the 64 examples, you only want to divide by one value, the sum in the denominator. So you need `b` to have a shape of `(64, 1)`. This way PyTorch will divide the 10 values in each row of `a` by the one value in each row of `b`. Pay attention to how you take the sum as well. You'll need to define the `dim` keyword in `torch.sum`. Setting `dim=0` takes the sum across the rows while `dim=1` takes the sum across the columns."
   ]
  },
  {
   "cell_type": "code",
   "execution_count": 37,
   "metadata": {},
   "outputs": [
    {
     "name": "stdout",
     "output_type": "stream",
     "text": [
      "torch.Size([64, 10])\n",
      "tensor([1.0000, 1.0000, 1.0000, 1.0000, 1.0000, 1.0000, 1.0000, 1.0000, 1.0000,\n",
      "        1.0000, 1.0000, 1.0000, 1.0000, 1.0000, 1.0000, 1.0000, 1.0000, 1.0000,\n",
      "        1.0000, 1.0000, 1.0000, 1.0000, 1.0000, 1.0000, 1.0000, 1.0000, 1.0000,\n",
      "        1.0000, 1.0000, 1.0000, 1.0000, 1.0000, 1.0000, 1.0000, 1.0000, 1.0000,\n",
      "        1.0000, 1.0000, 1.0000, 1.0000, 1.0000, 1.0000, 1.0000, 1.0000, 1.0000,\n",
      "        1.0000, 1.0000, 1.0000, 1.0000, 1.0000, 1.0000, 1.0000, 1.0000, 1.0000,\n",
      "        1.0000, 1.0000, 1.0000, 1.0000, 1.0000, 1.0000, 1.0000, 1.0000, 1.0000,\n",
      "        1.0000])\n"
     ]
    }
   ],
   "source": [
    "def softmax(x):\n",
    "    ## TODO: Implement the softmax function here\n",
    "    return torch.exp(out)/torch.sum(torch.exp(out), dim=1).view(64,1)\n",
    "\n",
    "# Here, out should be the output of the network in the previous excercise with shape (64,10)\n",
    "probabilities = softmax(out)\n",
    "\n",
    "# Does it have the right shape? Should be (64, 10)\n",
    "print(probabilities.shape)\n",
    "# Does it sum to 1?\n",
    "print(probabilities.sum(dim=1))"
   ]
  },
  {
   "cell_type": "markdown",
   "metadata": {},
   "source": [
    "## Building networks with PyTorch\n",
    "\n",
    "PyTorch provides a module `nn` that makes building networks much simpler. Here I'll show you how to build the same one as above with 784 inputs, 256 hidden units, 10 output units and a softmax output."
   ]
  },
  {
   "cell_type": "code",
   "execution_count": 5,
   "metadata": {},
   "outputs": [],
   "source": [
    "from torch import nn"
   ]
  },
  {
   "cell_type": "code",
   "execution_count": 10,
   "metadata": {},
   "outputs": [],
   "source": [
    "class Network(nn.Module):\n",
    "    def __init__(self):\n",
    "        super().__init__()\n",
    "        \n",
    "        # Inputs to hidden layer linear transformation\n",
    "        self.hidden = nn.Linear(784, 256)\n",
    "        # Output layer, 10 units - one for each digit\n",
    "        self.output = nn.Linear(256, 10)\n",
    "        \n",
    "        # Define sigmoid activation and softmax output \n",
    "        self.sigmoid = nn.Sigmoid()\n",
    "        self.softmax = nn.Softmax(dim=1)\n",
    "        \n",
    "    def forward(self, x):\n",
    "        # Pass the input tensor through each of our operations\n",
    "        x = self.hidden(x)\n",
    "        x = self.sigmoid(x)\n",
    "        x = self.output(x)\n",
    "        x = self.softmax(x)\n",
    "        \n",
    "        return x"
   ]
  },
  {
   "cell_type": "markdown",
   "metadata": {},
   "source": [
    "Let's go through this bit by bit.\n",
    "\n",
    "```python\n",
    "class Network(nn.Module):\n",
    "```\n",
    "\n",
    "Here we're inheriting from `nn.Module`. Combined with `super().__init__()` this creates a class that tracks the architecture and provides a lot of useful methods and attributes. It is mandatory to inherit from `nn.Module` when you're creating a class for your network. The name of the class itself can be anything.\n",
    "\n",
    "```python\n",
    "self.hidden = nn.Linear(784, 256)\n",
    "```\n",
    "\n",
    "This line creates a module for a linear transformation, $x\\mathbf{W} + b$, with 784 inputs and 256 outputs and assigns it to `self.hidden`. The module automatically creates the weight and bias tensors which we'll use in the `forward` method. You can access the weight and bias tensors once the network (`net`) is created with `net.hidden.weight` and `net.hidden.bias`.\n",
    "\n",
    "```python\n",
    "self.output = nn.Linear(256, 10)\n",
    "```\n",
    "\n",
    "Similarly, this creates another linear transformation with 256 inputs and 10 outputs.\n",
    "\n",
    "```python\n",
    "self.sigmoid = nn.Sigmoid()\n",
    "self.softmax = nn.Softmax(dim=1)\n",
    "```\n",
    "\n",
    "Here I defined operations for the sigmoid activation and softmax output. Setting `dim=1` in `nn.Softmax(dim=1)` calculates softmax across the columns.\n",
    "\n",
    "```python\n",
    "def forward(self, x):\n",
    "```\n",
    "\n",
    "PyTorch networks created with `nn.Module` must have a `forward` method defined. It takes in a tensor `x` and passes it through the operations you defined in the `__init__` method.\n",
    "\n",
    "```python\n",
    "x = self.hidden(x)\n",
    "x = self.sigmoid(x)\n",
    "x = self.output(x)\n",
    "x = self.softmax(x)\n",
    "```\n",
    "\n",
    "Here the input tensor `x` is passed through each operation and reassigned to `x`. We can see that the input tensor goes through the hidden layer, then a sigmoid function, then the output layer, and finally the softmax function. It doesn't matter what you name the variables here, as long as the inputs and outputs of the operations match the network architecture you want to build. The order in which you define things in the `__init__` method doesn't matter, but you'll need to sequence the operations correctly in the `forward` method.\n",
    "\n",
    "Now we can create a `Network` object."
   ]
  },
  {
   "cell_type": "code",
   "execution_count": 11,
   "metadata": {},
   "outputs": [
    {
     "data": {
      "text/plain": [
       "Network(\n",
       "  (hidden): Linear(in_features=784, out_features=256, bias=True)\n",
       "  (output): Linear(in_features=256, out_features=10, bias=True)\n",
       "  (sigmoid): Sigmoid()\n",
       "  (softmax): Softmax(dim=1)\n",
       ")"
      ]
     },
     "execution_count": 11,
     "metadata": {},
     "output_type": "execute_result"
    }
   ],
   "source": [
    "# Create the network and look at it's text representation\n",
    "model = Network()\n",
    "model"
   ]
  },
  {
   "cell_type": "markdown",
   "metadata": {},
   "source": [
    "You can define the network somewhat more concisely and clearly using the `torch.nn.functional` module. This is the most common way you'll see networks defined as many operations are simple element-wise functions. We normally import this module as `F`, `import torch.nn.functional as F`."
   ]
  },
  {
   "cell_type": "code",
   "execution_count": 6,
   "metadata": {},
   "outputs": [],
   "source": [
    "from torch import nn\n",
    "import torch.nn.functional as F\n",
    "\n",
    "class Network(nn.Module):\n",
    "    def __init__(self):\n",
    "        super().__init__()\n",
    "        # Inputs to hidden layer linear transformation\n",
    "        self.hidden = nn.Linear(784, 256)\n",
    "        # Output layer, 10 units - one for each digit\n",
    "        self.output = nn.Linear(256, 10)\n",
    "        \n",
    "    def forward(self, x):\n",
    "        # Hidden layer with sigmoid activation\n",
    "        x = F.sigmoid(self.hidden(x))\n",
    "        # Output layer with softmax activation\n",
    "        x = F.softmax(self.output(x), dim=1)\n",
    "        \n",
    "        return x"
   ]
  },
  {
   "cell_type": "markdown",
   "metadata": {},
   "source": [
    "### Activation functions\n",
    "\n",
    "So far we've only been looking at the sigmoid activation function, but in general any function can be used as an activation function. The only requirement is that for a network to approximate a non-linear function, the activation functions must be non-linear. Here are a few more examples of common activation functions: Tanh (hyperbolic tangent), and ReLU (rectified linear unit).\n",
    "\n",
    "<img src=\"assets/activation.png\" width=700px>\n",
    "\n",
    "In practice, the ReLU function is used almost exclusively as the activation function for hidden layers."
   ]
  },
  {
   "cell_type": "markdown",
   "metadata": {},
   "source": [
    "### Your Turn to Build a Network\n",
    "\n",
    "<img src=\"assets/mlp_mnist.png\" width=600px>\n",
    "\n",
    "> **Exercise:** Create a network with 784 input units, a hidden layer with 128 units and a ReLU activation, then a hidden layer with 64 units and a ReLU activation, and finally an output layer with a softmax activation as shown above. You can use a ReLU activation with the `nn.ReLU` module or `F.relu` function.\n",
    "\n",
    "It's good practice to name your layers by their type of network, for instance 'fc' to represent a fully-connected layer. As you code your solution, use `fc1`, `fc2`, and `fc3` as your layer names."
   ]
  },
  {
   "cell_type": "code",
   "execution_count": 24,
   "metadata": {
    "scrolled": true
   },
   "outputs": [
    {
     "data": {
      "text/plain": [
       "Network(\n",
       "  (fc1): Linear(in_features=784, out_features=128, bias=True)\n",
       "  (fc2): Linear(in_features=128, out_features=64, bias=True)\n",
       "  (fc3): Linear(in_features=64, out_features=10, bias=True)\n",
       ")"
      ]
     },
     "execution_count": 24,
     "metadata": {},
     "output_type": "execute_result"
    }
   ],
   "source": [
    "## Your solution here\n",
    "import torch.nn.functional as F\n",
    "\n",
    "class Network(nn.Module):\n",
    "    def __init__(self):\n",
    "        super().__init__()\n",
    "        \n",
    "        self.fc1 = nn.Linear(784,128)\n",
    "        self.fc2 = nn.Linear(128,64)\n",
    "        self.fc3   = nn.Linear(64,10)\n",
    "    \n",
    "    def forward(self, X):\n",
    "        X = F.relu(self.fc1(X))\n",
    "        X = F.relu(self.fc2(X))\n",
    "        X = F.softmax(self.fc3(X), dim=1)        \n",
    "        \n",
    "        return X\n",
    "    \n",
    "model = Network()\n",
    "model"
   ]
  },
  {
   "cell_type": "markdown",
   "metadata": {},
   "source": [
    "### Initializing weights and biases\n",
    "\n",
    "The weights and such are automatically initialized for you, but it's possible to customize how they are initialized. The weights and biases are tensors attached to the layer you defined, you can get them with `model.fc1.weight` for instance."
   ]
  },
  {
   "cell_type": "code",
   "execution_count": 25,
   "metadata": {},
   "outputs": [
    {
     "name": "stdout",
     "output_type": "stream",
     "text": [
      "Parameter containing:\n",
      "tensor([[-0.0318,  0.0115, -0.0319,  ...,  0.0238, -0.0346,  0.0268],\n",
      "        [ 0.0120,  0.0090, -0.0302,  ..., -0.0224, -0.0038, -0.0325],\n",
      "        [-0.0193, -0.0195,  0.0236,  ...,  0.0079,  0.0278,  0.0072],\n",
      "        ...,\n",
      "        [ 0.0010,  0.0211,  0.0114,  ..., -0.0069, -0.0166, -0.0062],\n",
      "        [ 0.0332,  0.0309,  0.0109,  ..., -0.0062, -0.0128, -0.0140],\n",
      "        [-0.0284,  0.0230,  0.0036,  ..., -0.0026,  0.0103, -0.0047]],\n",
      "       requires_grad=True)\n",
      "Parameter containing:\n",
      "tensor([ 0.0215,  0.0307, -0.0249, -0.0199, -0.0272,  0.0293,  0.0120, -0.0184,\n",
      "        -0.0262,  0.0022, -0.0305, -0.0137,  0.0132,  0.0230,  0.0269, -0.0098,\n",
      "         0.0296, -0.0292, -0.0164, -0.0253, -0.0339, -0.0085, -0.0140,  0.0174,\n",
      "        -0.0135, -0.0231,  0.0269, -0.0017,  0.0055, -0.0306,  0.0152, -0.0179,\n",
      "        -0.0159, -0.0223,  0.0324,  0.0110, -0.0092, -0.0065, -0.0251,  0.0320,\n",
      "        -0.0342, -0.0098,  0.0217, -0.0001,  0.0171,  0.0068, -0.0106,  0.0211,\n",
      "         0.0169, -0.0123,  0.0057,  0.0042, -0.0165, -0.0163, -0.0008,  0.0148,\n",
      "         0.0266,  0.0218,  0.0096,  0.0301, -0.0062, -0.0333,  0.0120,  0.0036,\n",
      "         0.0335, -0.0026,  0.0106, -0.0229, -0.0179,  0.0041, -0.0104, -0.0288,\n",
      "        -0.0051, -0.0077,  0.0224, -0.0155, -0.0131, -0.0133,  0.0119, -0.0202,\n",
      "        -0.0044,  0.0092, -0.0009,  0.0096,  0.0045, -0.0025,  0.0318,  0.0215,\n",
      "        -0.0226, -0.0030,  0.0184,  0.0342, -0.0328,  0.0012,  0.0066, -0.0289,\n",
      "        -0.0257, -0.0019,  0.0054, -0.0010, -0.0015, -0.0135, -0.0066, -0.0111,\n",
      "         0.0054, -0.0243,  0.0144,  0.0274,  0.0351,  0.0308, -0.0250, -0.0253,\n",
      "         0.0018,  0.0094,  0.0303, -0.0148,  0.0043,  0.0052, -0.0128, -0.0245,\n",
      "         0.0326,  0.0119,  0.0142,  0.0065, -0.0177,  0.0125,  0.0027,  0.0208],\n",
      "       requires_grad=True)\n"
     ]
    }
   ],
   "source": [
    "print(model.fc1.weight)\n",
    "print(model.fc1.bias)"
   ]
  },
  {
   "cell_type": "markdown",
   "metadata": {},
   "source": [
    "For custom initialization, we want to modify these tensors in place. These are actually autograd *Variables*, so we need to get back the actual tensors with `model.fc1.weight.data`. Once we have the tensors, we can fill them with zeros (for biases) or random normal values."
   ]
  },
  {
   "cell_type": "code",
   "execution_count": 26,
   "metadata": {},
   "outputs": [
    {
     "data": {
      "text/plain": [
       "tensor([0., 0., 0., 0., 0., 0., 0., 0., 0., 0., 0., 0., 0., 0., 0., 0., 0., 0., 0., 0., 0., 0., 0., 0.,\n",
       "        0., 0., 0., 0., 0., 0., 0., 0., 0., 0., 0., 0., 0., 0., 0., 0., 0., 0., 0., 0., 0., 0., 0., 0.,\n",
       "        0., 0., 0., 0., 0., 0., 0., 0., 0., 0., 0., 0., 0., 0., 0., 0., 0., 0., 0., 0., 0., 0., 0., 0.,\n",
       "        0., 0., 0., 0., 0., 0., 0., 0., 0., 0., 0., 0., 0., 0., 0., 0., 0., 0., 0., 0., 0., 0., 0., 0.,\n",
       "        0., 0., 0., 0., 0., 0., 0., 0., 0., 0., 0., 0., 0., 0., 0., 0., 0., 0., 0., 0., 0., 0., 0., 0.,\n",
       "        0., 0., 0., 0., 0., 0., 0., 0.])"
      ]
     },
     "execution_count": 26,
     "metadata": {},
     "output_type": "execute_result"
    }
   ],
   "source": [
    "# Set biases to all zeros\n",
    "model.fc1.bias.data.fill_(0)"
   ]
  },
  {
   "cell_type": "code",
   "execution_count": 27,
   "metadata": {},
   "outputs": [
    {
     "data": {
      "text/plain": [
       "tensor([[ 0.0034, -0.0054, -0.0013,  ...,  0.0015, -0.0043,  0.0045],\n",
       "        [-0.0049,  0.0070, -0.0074,  ...,  0.0053, -0.0097,  0.0029],\n",
       "        [ 0.0038, -0.0143,  0.0029,  ...,  0.0085, -0.0111,  0.0118],\n",
       "        ...,\n",
       "        [-0.0127,  0.0048,  0.0114,  ..., -0.0101,  0.0049,  0.0071],\n",
       "        [-0.0140, -0.0150,  0.0077,  ..., -0.0028, -0.0194,  0.0054],\n",
       "        [-0.0177,  0.0063, -0.0040,  ..., -0.0233,  0.0133, -0.0015]])"
      ]
     },
     "execution_count": 27,
     "metadata": {},
     "output_type": "execute_result"
    }
   ],
   "source": [
    "# sample from random normal with standard dev = 0.01\n",
    "model.fc1.weight.data.normal_(std=0.01)"
   ]
  },
  {
   "cell_type": "markdown",
   "metadata": {},
   "source": [
    "### Forward pass\n",
    "\n",
    "Now that we have a network, let's see what happens when we pass in an image."
   ]
  },
  {
   "cell_type": "code",
   "execution_count": 28,
   "metadata": {},
   "outputs": [
    {
     "data": {
      "image/png": "[encoded data removed]",
      "text/plain": [
       "<Figure size 432x648 with 2 Axes>"
      ]
     },
     "metadata": {
      "image/png": {
       "height": 235,
       "width": 424
      },
      "needs_background": "light"
     },
     "output_type": "display_data"
    }
   ],
   "source": [
    "# Grab some data \n",
    "dataiter = iter(trainloader)\n",
    "images, labels = dataiter.next()\n",
    "\n",
    "# Resize images into a 1D vector, new shape is (batch size, color channels, image pixels) \n",
    "images.resize_(64, 1, 784)\n",
    "# or images.resize_(images.shape[0], 1, 784) to automatically get batch size\n",
    "\n",
    "# Forward pass through the network\n",
    "img_idx = 0\n",
    "ps = model.forward(images[img_idx,:])\n",
    "\n",
    "img = images[img_idx]\n",
    "helper.view_classify(img.view(1, 28, 28), ps)"
   ]
  },
  {
   "cell_type": "markdown",
   "metadata": {},
   "source": [
    "As you can see above, our network has basically no idea what this digit is. It's because we haven't trained it yet, all the weights are random!\n",
    "\n",
    "### Using `nn.Sequential`\n",
    "\n",
    "PyTorch provides a convenient way to build networks like this where a tensor is passed sequentially through operations, `nn.Sequential` ([documentation](https://pytorch.org/docs/master/nn.html#torch.nn.Sequential)). Using this to build the equivalent network:"
   ]
  },
  {
   "cell_type": "code",
   "execution_count": 29,
   "metadata": {},
   "outputs": [
    {
     "name": "stdout",
     "output_type": "stream",
     "text": [
      "Sequential(\n",
      "  (0): Linear(in_features=784, out_features=128, bias=True)\n",
      "  (1): ReLU()\n",
      "  (2): Linear(in_features=128, out_features=64, bias=True)\n",
      "  (3): ReLU()\n",
      "  (4): Linear(in_features=64, out_features=10, bias=True)\n",
      "  (5): Softmax(dim=1)\n",
      ")\n"
     ]
    },
    {
     "data": {
      "image/png": "[encoded data removed]",
      "text/plain": [
       "<Figure size 432x648 with 2 Axes>"
      ]
     },
     "metadata": {
      "image/png": {
       "height": 235,
       "width": 424
      },
      "needs_background": "light"
     },
     "output_type": "display_data"
    }
   ],
   "source": [
    "# Hyperparameters for our network\n",
    "input_size = 784\n",
    "hidden_sizes = [128, 64]\n",
    "output_size = 10\n",
    "\n",
    "# Build a feed-forward network\n",
    "model = nn.Sequential(nn.Linear(input_size, hidden_sizes[0]),\n",
    "                      nn.ReLU(),\n",
    "                      nn.Linear(hidden_sizes[0], hidden_sizes[1]),\n",
    "                      nn.ReLU(),\n",
    "                      nn.Linear(hidden_sizes[1], output_size),\n",
    "                      nn.Softmax(dim=1))\n",
    "print(model)\n",
    "\n",
    "# Forward pass through the network and display output\n",
    "images, labels = next(iter(trainloader))\n",
    "images.resize_(images.shape[0], 1, 784)\n",
    "ps = model.forward(images[0,:])\n",
    "helper.view_classify(images[0].view(1, 28, 28), ps)"
   ]
  },
  {
   "cell_type": "markdown",
   "metadata": {},
   "source": [
    "Here our model is the same as before: 784 input units, a hidden layer with 128 units, ReLU activation, 64 unit hidden layer, another ReLU, then the output layer with 10 units, and the softmax output.\n",
    "\n",
    "The operations are available by passing in the appropriate index. For example, if you want to get first Linear operation and look at the weights, you'd use `model[0]`."
   ]
  },
  {
   "cell_type": "code",
   "execution_count": 30,
   "metadata": {},
   "outputs": [
    {
     "name": "stdout",
     "output_type": "stream",
     "text": [
      "Linear(in_features=784, out_features=128, bias=True)\n"
     ]
    },
    {
     "data": {
      "text/plain": [
       "Parameter containing:\n",
       "tensor([[-0.0254,  0.0026, -0.0294,  ...,  0.0104, -0.0336, -0.0125],\n",
       "        [ 0.0108,  0.0194, -0.0045,  ..., -0.0020, -0.0264,  0.0109],\n",
       "        [-0.0069,  0.0200, -0.0119,  ...,  0.0003,  0.0150, -0.0094],\n",
       "        ...,\n",
       "        [-0.0056,  0.0190,  0.0169,  ..., -0.0325, -0.0209, -0.0116],\n",
       "        [-0.0291,  0.0328, -0.0264,  ...,  0.0016, -0.0350,  0.0236],\n",
       "        [-0.0237, -0.0106, -0.0175,  ..., -0.0011, -0.0119, -0.0224]],\n",
       "       requires_grad=True)"
      ]
     },
     "execution_count": 30,
     "metadata": {},
     "output_type": "execute_result"
    }
   ],
   "source": [
    "print(model[0])\n",
    "model[0].weight"
   ]
  },
  {
   "cell_type": "markdown",
   "metadata": {},
   "source": [
    "You can also pass in an `OrderedDict` to name the individual layers and operations, instead of using incremental integers. Note that dictionary keys must be unique, so _each operation must have a different name_."
   ]
  },
  {
   "cell_type": "code",
   "execution_count": 31,
   "metadata": {},
   "outputs": [
    {
     "data": {
      "text/plain": [
       "Sequential(\n",
       "  (fc1): Linear(in_features=784, out_features=128, bias=True)\n",
       "  (relu1): ReLU()\n",
       "  (fc2): Linear(in_features=128, out_features=64, bias=True)\n",
       "  (relu2): ReLU()\n",
       "  (output): Linear(in_features=64, out_features=10, bias=True)\n",
       "  (softmax): Softmax(dim=1)\n",
       ")"
      ]
     },
     "execution_count": 31,
     "metadata": {},
     "output_type": "execute_result"
    }
   ],
   "source": [
    "from collections import OrderedDict\n",
    "model = nn.Sequential(OrderedDict([\n",
    "                      ('fc1', nn.Linear(input_size, hidden_sizes[0])),\n",
    "                      ('relu1', nn.ReLU()),\n",
    "                      ('fc2', nn.Linear(hidden_sizes[0], hidden_sizes[1])),\n",
    "                      ('relu2', nn.ReLU()),\n",
    "                      ('output', nn.Linear(hidden_sizes[1], output_size)),\n",
    "                      ('softmax', nn.Softmax(dim=1))]))\n",
    "model"
   ]
  },
  {
   "cell_type": "markdown",
   "metadata": {},
   "source": [
    "Now you can access layers either by integer or the name"
   ]
  },
  {
   "cell_type": "code",
   "execution_count": 32,
   "metadata": {},
   "outputs": [
    {
     "name": "stdout",
     "output_type": "stream",
     "text": [
      "Linear(in_features=784, out_features=128, bias=True)\n",
      "Linear(in_features=784, out_features=128, bias=True)\n"
     ]
    }
   ],
   "source": [
    "print(model[0])\n",
    "print(model.fc1)"
   ]
  },
  {
   "cell_type": "markdown",
   "metadata": {},
   "source": [
    "In the next notebook, we'll see how we can train a neural network to accuractly predict the numbers appearing in the MNIST images."
   ]
  }
 ],
 "metadata": {
  "kernelspec": {
   "display_name": "Python 3.7.5 64-bit ('base': conda)",
   "language": "python",
   "name": "python37564bitbaseconda9c532963ec6246b9ba363cead22775eb"
  },
  "language_info": {
   "codemirror_mode": {
    "name": "ipython",
    "version": 3
   },
   "file_extension": ".py",
   "mimetype": "text/x-python",
   "name": "python",
   "nbconvert_exporter": "python",
   "pygments_lexer": "ipython3",
   "version": "3.7.5"
  }
 },
 "nbformat": 4,
 "nbformat_minor": 2
}
